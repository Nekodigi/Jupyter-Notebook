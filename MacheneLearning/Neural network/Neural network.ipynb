{
 "cells": [
  {
   "cell_type": "markdown",
   "metadata": {},
   "source": [
    "# Neural network\n",
    "### import"
   ]
  },
  {
   "cell_type": "code",
   "execution_count": 1,
   "metadata": {},
   "outputs": [
    {
     "name": "stderr",
     "output_type": "stream",
     "text": [
      "Using TensorFlow backend.\n"
     ]
    }
   ],
   "source": [
    "import numpy as np\n",
    "import matplotlib.pyplot as plt\n",
    "from mpl_toolkits.mplot3d import Axes3D\n",
    "%matplotlib inline\n",
    "import time\n",
    "import keras.optimizers\n",
    "from keras.models import Sequential\n",
    "from keras.layers.core import Dense, Activation"
   ]
  },
  {
   "cell_type": "markdown",
   "metadata": {},
   "source": [
    "## 2 feed foward neural network"
   ]
  },
  {
   "cell_type": "code",
   "execution_count": 2,
   "metadata": {},
   "outputs": [],
   "source": [
    "np.random.seed(seed = 1)\n",
    "N = 200\n",
    "K = 3\n",
    "T = np.zeros((N, 3), dtype=np.uint8)\n",
    "X = np.zeros((N, 2))\n",
    "X_range0 = [-3, 3]\n",
    "X_range1 = [-3, 3]\n",
    "Mu = np.array([[-.5, -.5], [.5, 1.0], [1, -.5]])\n",
    "Sig = np.array([[.7, .7], [.8, .3], [.3, .8]])\n",
    "Pi = np.array([0.4, 0.8, 1])\n",
    "for n in range(N):\n",
    "    wk = np.random.rand()\n",
    "    for k in range(K):\n",
    "        if wk < Pi[k]:\n",
    "            T[n, k] = 1\n",
    "            break\n",
    "    for k in range(2):\n",
    "        X[n, k] = np.random.randn() * Sig[T[n, :] == 1, k] + \\\n",
    "        Mu[T[n, :] == 1, k]"
   ]
  },
  {
   "cell_type": "code",
   "execution_count": 3,
   "metadata": {},
   "outputs": [],
   "source": [
    "TrainingRatio = 0.5\n",
    "X_n_training = int(N * TrainingRatio)\n",
    "X_train = X[:X_n_training, :]\n",
    "X_test = X[X_n_training:, :]\n",
    "T_train = T[:X_n_training, :]\n",
    "T_test = T[X_n_training:, :]\n",
    "\n",
    "np.savez('class_data.npz', X_train=X_train, T_train=T_train,\n",
    "        X_test=X_test, T_test=T_test,\n",
    "        X_range0=X_range0, X_range1=X_range1)"
   ]
  },
  {
   "cell_type": "markdown",
   "metadata": {},
   "source": [
    "### showData"
   ]
  },
  {
   "cell_type": "code",
   "execution_count": 4,
   "metadata": {},
   "outputs": [
    {
     "data": {
      "image/png": "[encoded data removed]",
      "text/plain": [
       "<Figure size 576x266.4 with 2 Axes>"
      ]
     },
     "metadata": {
      "needs_background": "light"
     },
     "output_type": "display_data"
    }
   ],
   "source": [
    "def Show_data(x, t):\n",
    "    wk, n = t.shape\n",
    "    c = [[0, 0, 0], [.5, .5, .5], [1, 1, 1]]\n",
    "    for i in range(n):\n",
    "        plt.plot(x[t[:, i] == 1, 0], x[t[:, i] == 1, 1],\n",
    "                linestyle='none',\n",
    "                marker='o', markeredgecolor='black',\n",
    "                 color=c[i], alpha=0.8)\n",
    "    plt.grid(True)\n",
    "    \n",
    "plt.figure(1, figsize=(8, 3.7))\n",
    "plt.subplot(1, 2, 1)\n",
    "Show_data(X_train, T_train)\n",
    "plt.xlim(X_range0)\n",
    "plt.ylim(X_range1)\n",
    "plt.title('Training Data')\n",
    "plt.subplot(1, 2, 2)\n",
    "Show_data(X_test, T_test)\n",
    "plt.xlim(X_range0)\n",
    "plt.ylim(X_range1)\n",
    "plt.title('Test Data')\n",
    "plt.show()"
   ]
  },
  {
   "cell_type": "code",
   "execution_count": 5,
   "metadata": {},
   "outputs": [
    {
     "data": {
      "text/plain": [
       "(array([[0.33333333, 0.33333333, 0.33333333],\n",
       "        [0.33333333, 0.33333333, 0.33333333]]),\n",
       " array([[2.6971835 , 2.6971835 , 2.6971835 ],\n",
       "        [1.49172649, 1.49172649, 1.49172649]]),\n",
       " array([[0.84859175, 0.84859175, 1.        ],\n",
       "        [0.24586324, 0.24586324, 1.        ]]),\n",
       " array([[ 1.72359839,  1.72359839,  0.        ],\n",
       "        [-1.12079826, -1.12079826,  0.        ]]))"
      ]
     },
     "execution_count": 5,
     "metadata": {},
     "output_type": "execute_result"
    }
   ],
   "source": [
    "def Sigmoid(x):\n",
    "    y = 1 / (1 + np.exp(-x))\n",
    "    return y\n",
    "\n",
    "def FNN(wv, M, K, x):\n",
    "    N, D = x.shape\n",
    "    w = wv[:M * (D + 1)]\n",
    "    w = w.reshape(M, (D + 1))\n",
    "    v = wv[M * (D + 1):]\n",
    "    v = v.reshape((K, M + 1))\n",
    "    b = np.zeros((N, M + 1))\n",
    "    z = np.zeros((N, M + 1))\n",
    "    a = np.zeros((N, K))\n",
    "    y = np.zeros((N, K))\n",
    "    for n in range(N):\n",
    "        for m in range(M):\n",
    "            b[n, m] = np.dot(w[m, :], np.r_[x[n, :], 1])\n",
    "            z[n, m] = Sigmoid(b[n, m])\n",
    "        z[n, M] = 1\n",
    "        wkz = 0\n",
    "        for k in range(K):\n",
    "            a[n, k] = np.dot(v[k, :], z[n, :])\n",
    "            wkz = wkz + np.exp(a[n, k])\n",
    "        for k in range(K):\n",
    "            y[n, k] = np.exp(a[n, k]) / wkz\n",
    "    return y, a, z, b\n",
    "\n",
    "WV = np.ones(15)\n",
    "M = 2\n",
    "K = 3\n",
    "FNN(WV, M, K, X_train[:2, :])"
   ]
  },
  {
   "cell_type": "markdown",
   "metadata": {},
   "source": [
    "## Numerical differentiation"
   ]
  },
  {
   "cell_type": "code",
   "execution_count": 6,
   "metadata": {},
   "outputs": [
    {
     "data": {
      "text/plain": [
       "1.0986122886681098"
      ]
     },
     "execution_count": 6,
     "metadata": {},
     "output_type": "execute_result"
    }
   ],
   "source": [
    "def CE_FNN(wv, M, K, x, t):\n",
    "    N, D = x.shape\n",
    "    y, a, z, b = FNN(wv, M, K, x)\n",
    "    ce = -np.dot(np.log(y.reshape(-1)), t.reshape(-1)) / N\n",
    "    return ce\n",
    "\n",
    "WV = np.ones(15)\n",
    "M = 2\n",
    "K = 3\n",
    "CE_FNN(WV, M, K, X_train[:2, :], T_train[:2, :])"
   ]
  },
  {
   "cell_type": "code",
   "execution_count": 7,
   "metadata": {},
   "outputs": [
    {
     "name": "stdout",
     "output_type": "stream",
     "text": [
      "[ 0.0884813   0.19157999 -0.05139799  0.01281536 -0.14468029 -0.14242768\n",
      " -0.02992012  0.01351315 -0.11115648 -0.10104422 -0.09427964 -0.46855603\n",
      "  0.13096434  0.08076649  0.57971252]\n"
     ]
    },
    {
     "data": {
      "image/png": "[encoded data removed]",
      "text/plain": [
       "<Figure size 360x216 with 1 Axes>"
      ]
     },
     "metadata": {
      "needs_background": "light"
     },
     "output_type": "display_data"
    }
   ],
   "source": [
    "\n",
    "\n",
    "def dCE_FNN_num(wv, M, K, x, t):\n",
    "    epsilon = 0.001\n",
    "    dwv = np.zeros_like(wv)\n",
    "    for iwv in range(len(wv)):\n",
    "        wv_modified = wv.copy()\n",
    "        wv_modified[iwv] = wv[iwv] - epsilon\n",
    "        mse1 = CE_FNN(wv_modified, M, K, x, t)\n",
    "        wv_modified[iwv] = wv[iwv] + epsilon\n",
    "        mse2 = CE_FNN(wv_modified, M, K, x, t)\n",
    "        dwv[iwv] = (mse2 - mse1) / (2 * epsilon)\n",
    "    return dwv\n",
    "\n",
    "\n",
    "def Show_WV(wv, M):\n",
    "    N = wv.shape[0]\n",
    "    plt.bar(range(1, M * 3 + 1), wv[:M * 3], align=\"center\", color='black')\n",
    "    plt.bar(range(M * 3 + 1, N + 1), wv[M * 3:],\n",
    "            align=\"center\", color='cornflowerblue')\n",
    "    plt.xticks(range(1, N + 1))\n",
    "    plt.xlim(0, N + 1)\n",
    "    \n",
    "    \n",
    "M = 2\n",
    "K = 3\n",
    "nWV = M * 3 + K * (M + 1)\n",
    "np.random.seed(1)\n",
    "WV = np.random.normal(0, 1, nWV)\n",
    "dWV = dCE_FNN_num(WV, M, K, X_train[:2, :], T_train[:2, :])\n",
    "print(dWV)\n",
    "plt.figure(1, figsize=(5, 3))\n",
    "Show_WV(dWV, M)\n",
    "plt.show()"
   ]
  },
  {
   "cell_type": "markdown",
   "metadata": {},
   "source": [
    "## Gradiend method by numerical differentiation"
   ]
  },
  {
   "cell_type": "code",
   "execution_count": null,
   "metadata": {},
   "outputs": [],
   "source": [
    "def Fit_FNN_num(wv_init, M, K, x_train, t_train, x_test, t_test, n, alpha):\n",
    "    wvt = wv_init\n",
    "    err_train = np.zeros(n)\n",
    "    err_test = np.zeros(n)\n",
    "    wv_hist = np.zeros((n, len(wv_init)))\n",
    "    for i in range(n):\n",
    "        wvt = wvt - alpha * dCE_FNN_num(wvt, M, K, x_train, t_train)\n",
    "        err_train[i] = CE_FNN(wvt, M, K, x_train, t_train)\n",
    "        err_test[i] = CE_FNN(wvt, M, K, x_test, t_test)\n",
    "        wv_hist[i, :] = wvt\n",
    "    return wvt, wv_hist, err_train, err_test\n",
    "\n",
    "startTime = time.time()\n",
    "M = 2\n",
    "K = 3\n",
    "np.random.seed(1)\n",
    "WV_init = np.random.normal(0, 0.01, M * 3 + K * (M + 1))\n",
    "N_step = 1000\n",
    "alpha = 0.5\n",
    "WV, WV_hist, Err_train, Err_test = Fit_FNN_num(\n",
    "    WV_init, M, K, X_train, T_train, X_test, T_test, N_step, alpha)\n",
    "calculation_time = time.time() - startTime\n",
    "print(\"Calculation time:{0:.3f} sec\".format(calculation_time))"
   ]
  },
  {
   "cell_type": "code",
   "execution_count": null,
   "metadata": {},
   "outputs": [],
   "source": [
    "plt.figure(1, figsize=(3, 3))\n",
    "plt.plot(Err_train, 'black', label='training')\n",
    "plt.plot(Err_test, 'cornflowerblue', label='test')\n",
    "plt.legend()\n",
    "plt.show()"
   ]
  },
  {
   "cell_type": "code",
   "execution_count": null,
   "metadata": {},
   "outputs": [],
   "source": [
    "plt.figure(1, figsize=(3, 3))\n",
    "plt.plot(WV_hist[:, :M * 3], 'black')\n",
    "plt.plot(WV_hist[:, M * 3:], 'cornflowerblue')\n",
    "plt.show()"
   ]
  },
  {
   "cell_type": "code",
   "execution_count": null,
   "metadata": {},
   "outputs": [],
   "source": [
    "def show_FNN(wv, M, K):\n",
    "    xn = 60\n",
    "    x0 = np.linspace(X_range0[0], X_range0[1], xn)\n",
    "    x1 = np.linspace(X_range1[0], X_range1[1], xn)\n",
    "    xx0, xx1 = np.meshgrid(x0, x1)\n",
    "    x = np.c_[np.reshape(xx0, xn * xn, 1), np.reshape(xx1, xn * xn, 1)]\n",
    "    y, a, z, b = FNN(wv, M, K, x)\n",
    "    plt.figure(1, figsize=(4, 4))\n",
    "    for ic in range(K):\n",
    "        f = y[:, ic]\n",
    "        f = f.reshape(xn, xn)\n",
    "        f = f.T\n",
    "        cont = plt.contour(xx0, xx1, f, levels=[0.5, 0.9],\n",
    "                          colors=['cornflowerblue', 'black'])\n",
    "        cont.clabel(fmt='%1.1f', fontsize=9)\n",
    "    plt.xlim(X_range0)\n",
    "    plt.ylim(X_range1)\n",
    "    \n",
    "plt.figure(1, figsize=(3, 3))\n",
    "Show_data(X_test, T_test)\n",
    "show_FNN(WV, M, K)\n",
    "plt.show()"
   ]
  },
  {
   "cell_type": "markdown",
   "metadata": {},
   "source": [
    "## Error back propagation method"
   ]
  },
  {
   "cell_type": "code",
   "execution_count": null,
   "metadata": {},
   "outputs": [],
   "source": [
    "def dCE_FNN(wv, M, K, x, t):\n",
    "    N, D = x.shape\n",
    "    w = wv[:M * (D + 1)]\n",
    "    w = w.reshape(M, (D + 1))\n",
    "    v = wv[M * (D + 1):]\n",
    "    v = v.reshape((K, M + 1))\n",
    "    y, a, z, b = FNN(wv, M, K, x)\n",
    "    awv = np.zeros_like(wv)\n",
    "    dw = np.zeros((M, D + 1))\n",
    "    dv = np.zeros((K, M + 1))\n",
    "    delta1 = np.zeros(M)\n",
    "    delta2 = np.zeros(K)\n",
    "    for n in range(N):\n",
    "        for k in range(K):\n",
    "            delta2[k] = (y[n, k] - t[n, k])\n",
    "        \n",
    "        for j in range(M):\n",
    "            delta1[j] = z[n, j] * (1 - z[n, j]) * np.dot(v[:, j], delta2)\n",
    "            \n",
    "        for k in range(K):\n",
    "            dv[k, :] = dv[k, :] + delta2[k] * z[n, :] / N\n",
    "            \n",
    "        for j in range(M):\n",
    "            dw[j, :] = dw[j, :] + delta1[j] * np.r_[x[n, :], 1] / N\n",
    "        \n",
    "    dwv = np.c_[dw.reshape((1, M * (D + 1))), \\\n",
    "               dv.reshape((1, K * (M + 1)))]\n",
    "    dwv = dwv.reshape(-1)\n",
    "    return dwv\n",
    "\n",
    "def Show_dWV(wv, M):\n",
    "    N = wv.shape[0]\n",
    "    plt.bar(range(1, M * 3 + 1), wv[:M * 3],\n",
    "           align=\"center\", color='black')\n",
    "    plt.bar(range(M * 3 + 1, N + 1), wv[M * 3:],\n",
    "           align=\"center\", color='cornflowerblue')\n",
    "    plt.xticks(range(1, N + 1))\n",
    "    plt.xlim(0, N + 1)\n",
    "    \n",
    "M = 2\n",
    "K = 3\n",
    "N = 2\n",
    "nWV = M * 3 + K * (M + 1)\n",
    "np.random.seed(1)\n",
    "WV = np.random.normal(0, 1, nWV)\n",
    "\n",
    "dWV_ana = dCE_FNN(WV, M, K, X_train[:N, :], T_train[:N, :])\n",
    "print(\"analytical dWV\")\n",
    "print(dWV_ana)\n",
    "dWV_num = dCE_FNN_num(WV, M, K, X_train[:N, :], T_train[:N, :])\n",
    "print(\"numerical dWV\")\n",
    "print(dWV_num)\n",
    "\n",
    "plt.figure(1, figsize=(8, 3))\n",
    "plt.subplots_adjust(wspace=0.5)\n",
    "plt.subplot(1, 2, 1)\n",
    "Show_dWV(dWV_ana, M)\n",
    "plt.title('analitical')\n",
    "plt.subplot(1, 2, 2)\n",
    "Show_dWV(dWV_num, M)\n",
    "plt.title('numerical')\n",
    "plt.show()"
   ]
  },
  {
   "cell_type": "code",
   "execution_count": null,
   "metadata": {},
   "outputs": [],
   "source": [
    "def Fit_FNN(wv_init, M, K, x_train, t_train, x_test, t_test, n, alpha):\n",
    "    wv = wv_init.copy()\n",
    "    err_train = np.zeros(n)\n",
    "    err_test = np.zeros(n)\n",
    "    wv_hist = np.zeros((n, len(wv_init)))\n",
    "    for i in range(n):\n",
    "        wv = wv - alpha * dCE_FNN(wv, M, K, x_train, t_train)\n",
    "        err_train[i] = CE_FNN(wv, M, K, x_train, t_train)\n",
    "        err_test[i] = CE_FNN(wv, M, K, x_test, t_test)\n",
    "        wv_hist[i, :] = wv\n",
    "    return wv, wv_hist, err_train, err_test\n",
    "\n",
    "startTime = time.time()\n",
    "M = 2\n",
    "K = 3\n",
    "np.random.seed(1)\n",
    "WV_init = np.random.normal(0, 0.01, M * 3 + K * (M + 1))\n",
    "N_step = 1000\n",
    "alpha = 0.5\n",
    "WV, WV_hist, Err_train, Err_test = Fit_FNN(\n",
    "    WV_init, M, K, X_train, T_train, X_test, T_test, N_step, alpha)\n",
    "calculation_time = time.time() - startTime\n",
    "print(\"Calculation time:{0:.3f} sec\".format(calculation_time))"
   ]
  },
  {
   "cell_type": "code",
   "execution_count": null,
   "metadata": {},
   "outputs": [],
   "source": [
    "plt.figure(1, figsize=(12, 3))\n",
    "plt.subplots_adjust(wspace=0.5)\n",
    "plt.subplot(1, 3, 1)\n",
    "plt.plot(Err_train, 'black', label='training')\n",
    "plt.plot(Err_test, 'cornflowerblue', label='test')\n",
    "plt.legend()\n",
    "plt.subplot(1, 3, 2)\n",
    "plt.plot(WV_hist[:, :M * 3], 'black')\n",
    "plt.plot(WV_hist[:, M + 3:], 'cornflowerblue')\n",
    "plt.plot(1, 3, 3)\n",
    "Show_data(X_test, T_test)\n",
    "M = 2\n",
    "K = 3\n",
    "show_FNN(WV, M, K)\n",
    "plt.show()"
   ]
  },
  {
   "cell_type": "code",
   "execution_count": null,
   "metadata": {},
   "outputs": [],
   "source": [
    "def show_activation3d(ax, v, v_ticks, title_str):\n",
    "    f = v.copy()\n",
    "    f = f.reshape(xn, xn)\n",
    "    f = f.T\n",
    "    ax.plot_surface(xx0, xx1, f, color='blue', edgecolor='black',\n",
    "                   rstride=1, cstride=1, alpha=0.5)\n",
    "    ax.view_init(70, -110)\n",
    "    ax.set_xticklabels([])\n",
    "    ax.set_yticklabels([])\n",
    "    ax.set_zticks(v_ticks)\n",
    "    ax.set_title(title_str, fontsize=18)\n",
    "    \n",
    "M = 2\n",
    "K = 3\n",
    "xn = 15\n",
    "x0 = np.linspace(X_range0[0], X_range0[1], xn)\n",
    "x1 = np.linspace(X_range1[0], X_range1[1], xn)\n",
    "xx0 , xx1 = np.meshgrid(x0, x1)\n",
    "x = np.c_[np.reshape(xx0, xn * xn, 1), np.reshape(xx1, xn * xn, 1)]\n",
    "y, a, z, b = FNN(WV, M, K, x)\n",
    "\n",
    "fig = plt.figure(1, figsize=(12, 9))\n",
    "plt.subplots_adjust(left=0.075, bottom=0.05, right=0.95,\n",
    "                   top=0.95, wspace=0.4, hspace=0.4)\n",
    "\n",
    "for m in range(M):\n",
    "    ax = fig.add_subplot(3, 4, 1 + m * 4, projection='3d')\n",
    "    show_activation3d(ax, b[:, m], [-10, 10], '$b_{0:d}$'.format(m))\n",
    "    ax = fig.add_subplot(3, 4, 2 + m * 4, projection='3d')\n",
    "    show_activation3d(ax, z[:, m], [0, 1], '$z_{0:d}$'.format(m))\n",
    "    \n",
    "for k in range(K):\n",
    "    ax = fig.add_subplot(3, 4, 3 + k * 4, projection='3d')\n",
    "    show_activation3d(ax, a[:, k], [-5, 5], '$a_{0:d}$'.format(k))\n",
    "    ax = fig.add_subplot(3, 4, 4 + k * 4, projection='3d')\n",
    "    show_activation3d(ax, y[:, k], [0, 1], '$y_{0:d}$'.format(k))\n",
    "    \n",
    "plt.show()"
   ]
  },
  {
   "cell_type": "markdown",
   "metadata": {},
   "source": [
    "## Keras"
   ]
  },
  {
   "cell_type": "code",
   "execution_count": null,
   "metadata": {},
   "outputs": [],
   "source": [
    "outfile = np.load('class_data.npz')\n",
    "X_train = outfile['X_train']\n",
    "T_train = outfile['T_train']\n",
    "X_test = outfile['X_test']\n",
    "T_test = outfile['T_test']\n",
    "X_range0 = outfile['X_range0']\n",
    "X_range1 = outfile['X_range1']"
   ]
  },
  {
   "cell_type": "code",
   "execution_count": null,
   "metadata": {},
   "outputs": [],
   "source": [
    "def Show_data(x, t):\n",
    "    wk, n = t.shape\n",
    "    c = [[0, 0, 0], [.5, .5, .5], [1, 1, 1]]\n",
    "    for i in range(n):\n",
    "        plt.plot(x[t[:, i] == 1, 0], x[t[:, i] == 1, 1],\n",
    "                linestyle='none', marker='o',\n",
    "                markeredgecolor='black',\n",
    "                color=c[i], alpha=0.8)\n",
    "        plt.grid(True)"
   ]
  },
  {
   "cell_type": "code",
   "execution_count": null,
   "metadata": {},
   "outputs": [],
   "source": [
    "np.random.seed(1)\n",
    "\n",
    "# --- Sequential モデルの作成\n",
    "model = Sequential()\n",
    "model.add(Dense(2, input_dim = 2, activation = 'sigmoid',\n",
    "           kernel_initializer = 'uniform'))  # (A)\n",
    "model.add(Dense(3,activation = 'softmax', \n",
    "           kernel_initializer = 'uniform'))  # (B)\n",
    "sgd = keras.optimizers.SGD(lr = 0.5, momentum = 0.0,\n",
    "                           decay = 0.0, nesterov = False)  # (C)\n",
    "model.compile(optimizer = sgd, loss = 'categorical_crossentropy',\n",
    "              metrics = ['accuracy'])  # (D)\n",
    "\n",
    "# ---------- 学習\n",
    "startTime = time.time()\n",
    "history = model.ﬁt(X_train, T_train, epochs = 1000, batch_size = 100,\n",
    "                    verbose = 0, validation_data = (X_test, T_test))  # (E)\n",
    "\n",
    "# ---------- モデル評価\n",
    "score = model.evaluate(X_test, T_test, verbose = 0)  # (F)\n",
    "print('cross entropy {0:3.2f}, accuracy {1:3.2f}'\\\n",
    "                     .format(score[0], score[1])) \n",
    "calculation_time = time.time() - startTime\n",
    "print(\"Calculation time:{0:.3f} sec\".format(calculation_time))"
   ]
  },
  {
   "cell_type": "code",
   "execution_count": null,
   "metadata": {},
   "outputs": [],
   "source": [
    "plt.figure(1, figsize = (12, 3))\n",
    "plt.subplots_adjust(wspace=0.5)\n",
    "\n",
    "plt.subplot(1, 3, 1)\n",
    "plt.plot(history.history['loss'], 'black', label='training')\n",
    "plt.plot(history.history['val_loss'], 'cornflowerblue', label='test')\n",
    "plt.legend()\n",
    "\n",
    "plt.subplot(1, 3, 2)\n",
    "plt.plot(history.history['acc'], 'black', label='training')\n",
    "plt.plot(history.history['val_acc'], 'cornflowerblue', label='test')\n",
    "plt.legend();\n",
    "\n",
    "plt.subplot(1, 3, 3)\n",
    "Show_data(X_test, T_test)\n",
    "xn = 60\n",
    "x0 = np.linspace(X_range0[0], X_range0[1], xn)\n",
    "x1 = np.linspace(X_range1[0], X_range1[1], xn)\n",
    "xx0, xx1 = np.meshgrid(x0, x1)\n",
    "x = np.c_[np.reshape(xx0, xn * xn, 1), np.reshape(xx1, xn * xn, 1)]\n",
    "y = model.predict(x)\n",
    "K = 3\n",
    "for ic in range(K):\n",
    "    f = y[:, ic]\n",
    "    f = f.reshape(xn, xn)\n",
    "    f = f.T\n",
    "    cont = plt.contour(xx0, xx1, f, levels=[0.5, 0.9], colors=[\n",
    "                       'cornflowerblue', 'black'])\n",
    "    cont.clabel(fmt='%1.1f', fontsize=9)\n",
    "    plt.xlim(X_range0)\n",
    "    plt.ylim(X_range1)\n",
    "plt.show()"
   ]
  },
  {
   "cell_type": "code",
   "execution_count": null,
   "metadata": {},
   "outputs": [],
   "source": []
  }
 ],
 "metadata": {
  "kernelspec": {
   "display_name": "Python 3",
   "language": "python",
   "name": "python3"
  },
  "language_info": {
   "codemirror_mode": {
    "name": "ipython",
    "version": 3
   },
   "file_extension": ".py",
   "mimetype": "text/x-python",
   "name": "python",
   "nbconvert_exporter": "python",
   "pygments_lexer": "ipython3",
   "version": "3.7.3"
  }
 },
 "nbformat": 4,
 "nbformat_minor": 2
}
