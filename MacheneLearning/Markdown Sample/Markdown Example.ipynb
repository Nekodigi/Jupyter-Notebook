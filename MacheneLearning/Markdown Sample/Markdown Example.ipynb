{
 "cells": [
  {
   "cell_type": "markdown",
   "metadata": {},
   "source": [
    "## Markdown Example\n",
    "### heading\n",
    "# 1\n",
    "## 2\n",
    "### 3\n",
    "#### 4\n",
    "##### 5\n",
    "###### 6"
   ]
  },
  {
   "cell_type": "markdown",
   "metadata": {},
   "source": [
    "### new line\n",
    "spacex2  \n",
    "example\n",
    "example"
   ]
  },
  {
   "cell_type": "markdown",
   "metadata": {},
   "source": [
    "### list\n",
    "- list_1\n",
    "    - list_1_1\n",
    "    - list_1_2\n",
    "        - list_1_2_1\n",
    "        - list_1_2_2\n",
    "    - list_1_3\n",
    "- list_2"
   ]
  },
  {
   "cell_type": "markdown",
   "metadata": {},
   "source": [
    "### numbered list ? (abc list?)\n",
    "1. n_list_1\n",
    "    1. n_list_1_1\n",
    "    1. n_list_1_2\n",
    "        1. n_list_1_2_1\n",
    "        1. n_list_1_2_2\n",
    "            1. n_list_1_2_2_1\n",
    "            1. n_list_1_2_2_2\n",
    "                1. n_list_1_2_2_2_1\n",
    "                1. n_list_1_2_2_2_2\n",
    "    1. n_list_1_3\n",
    "1. n_list_2"
   ]
  },
  {
   "cell_type": "markdown",
   "metadata": {},
   "source": [
    "### quote\n",
    "> sigmoid\n",
    ">\n",
    "> python3 to python4"
   ]
  },
  {
   "cell_type": "markdown",
   "metadata": {},
   "source": [
    "### double quotes\n",
    "> Artifical Inteligence\n",
    ">\n",
    ">from wikipedia\n",
    ">> sigmoid\n",
    ">>\n",
    ">> python3 to python4"
   ]
  },
  {
   "cell_type": "markdown",
   "metadata": {},
   "source": [
    "### pre notation\n",
    "    print(\"Hello World\")\n",
    "    a = np.array([2, 1])\n",
    "    print(a)\n",
    "    print(type(a))\n",
    "    c = np.array([[1, 2], [3, 4]])\n",
    "    print(c)\n",
    "    d = np.array([[1], [2]])\n",
    "    print(d)"
   ]
  },
  {
   "cell_type": "markdown",
   "metadata": {},
   "source": [
    "### code notation\n",
    "command is `pip install hoge`."
   ]
  },
  {
   "cell_type": "markdown",
   "metadata": {},
   "source": [
    "### enphasis\n",
    "normal *italic* _italic_  \n",
    "normal **bold** __bold__  \n",
    "normal ***bold italic*** ___bold italic___"
   ]
  },
  {
   "cell_type": "markdown",
   "metadata": {},
   "source": [
    "### horizon\n",
    "***\n",
    "\n",
    "---\n",
    "\n",
    "___\n",
    "\n",
    "*  *  *"
   ]
  },
  {
   "cell_type": "markdown",
   "metadata": {
    "collapsed": true
   },
   "source": [
    "### link\n",
    "[Nekodigi]: https://nekodigi.hatenablog.com/archive  \n",
    "[Nekodigi](https://nekodigi.hatenablog.com/archive)  \n",
    "[more Nekodigi][Nekodigi]  "
   ]
  },
  {
   "cell_type": "code",
   "execution_count": null,
   "metadata": {},
   "outputs": [],
   "source": [
    "1"
   ]
  }
 ],
 "metadata": {
  "kernelspec": {
   "display_name": "Python 3",
   "language": "python",
   "name": "python3"
  },
  "language_info": {
   "codemirror_mode": {
    "name": "ipython",
    "version": 3
   },
   "file_extension": ".py",
   "mimetype": "text/x-python",
   "name": "python",
   "nbconvert_exporter": "python",
   "pygments_lexer": "ipython3",
   "version": "3.7.1"
  }
 },
 "nbformat": 4,
 "nbformat_minor": 2
}
