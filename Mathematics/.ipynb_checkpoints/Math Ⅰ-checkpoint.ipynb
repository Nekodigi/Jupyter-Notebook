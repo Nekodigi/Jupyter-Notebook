{
 "cells": [
  {
   "cell_type": "markdown",
   "metadata": {},
   "source": [
    "# Mathematics Ⅰ"
   ]
  },
  {
   "cell_type": "markdown",
   "metadata": {},
   "source": [
    "### import"
   ]
  },
  {
   "cell_type": "code",
   "execution_count": 111,
   "metadata": {},
   "outputs": [],
   "source": [
    "import numpy as np\n",
    "import matplotlib.pyplot as plt\n",
    "\n",
    "np.set_printoptions(precision=5)"
   ]
  },
  {
   "cell_type": "markdown",
   "metadata": {},
   "source": [
    "## Solving nth-degree equation by simultaneous equation"
   ]
  },
  {
   "cell_type": "code",
   "execution_count": 122,
   "metadata": {},
   "outputs": [
    {
     "name": "stdout",
     "output_type": "stream",
     "text": [
      "[[ 1. -1.  1.]\n",
      " [ 0.  0.  1.]\n",
      " [ 1.  1.  1.]]\n",
      "[1. 0. 0.]\n"
     ]
    },
    {
     "data": {
      "image/png": "[encoded data removed]",
      "text/plain": [
       "<Figure size 432x288 with 1 Axes>"
      ]
     },
     "metadata": {
      "needs_background": "light"
     },
     "output_type": "display_data"
    }
   ],
   "source": [
    "\n",
    "x = np.array([-1, 0, 1])\n",
    "y = np.array([1, 0, 1])\n",
    "n = x.size-1\n",
    "A = np.zeros((n+1, n+1))\n",
    "\n",
    "def m_pow(data, n):\n",
    "    for i in range(n):\n",
    "        data *= data\n",
    "    return data\n",
    "\n",
    "\n",
    "\n",
    "for ys in range(n+1):\n",
    "    for xs in range(n+1):\n",
    "        A[xs, ys] = np.power(x[xs], n-ys)\n",
    "            \n",
    "\n",
    "print(A)\n",
    "Ainv = np.linalg.pinv(A)\n",
    "c = np.dot(Ainv, y)\n",
    "print(c)\n",
    "\n",
    "xg = np.linspace(x.min(), x.max(), 100)\n",
    "yg = np.zeros(xg.size)\n",
    "for i in range(n+1):\n",
    "    yg += np.power(xg, n-i) * c[i]\n",
    "plt.plot(x, y, marker=\"o\", linestyle=\"None\")\n",
    "plt.plot(xg, yg)\n",
    "plt.show()"
   ]
  },
  {
   "cell_type": "code",
   "execution_count": null,
   "metadata": {},
   "outputs": [],
   "source": []
  },
  {
   "cell_type": "code",
   "execution_count": null,
   "metadata": {},
   "outputs": [],
   "source": []
  }
 ],
 "metadata": {
  "kernelspec": {
   "display_name": "Python 3",
   "language": "python",
   "name": "python3"
  },
  "language_info": {
   "codemirror_mode": {
    "name": "ipython",
    "version": 3
   },
   "file_extension": ".py",
   "mimetype": "text/x-python",
   "name": "python",
   "nbconvert_exporter": "python",
   "pygments_lexer": "ipython3",
   "version": "3.7.3"
  }
 },
 "nbformat": 4,
 "nbformat_minor": 2
}
