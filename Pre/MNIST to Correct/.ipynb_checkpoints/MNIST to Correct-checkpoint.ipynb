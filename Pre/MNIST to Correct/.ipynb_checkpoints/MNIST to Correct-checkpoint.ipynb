{
 "cells": [
  {
   "cell_type": "markdown",
   "metadata": {},
   "source": [
    "# MNIST to Correct\n",
    "### import"
   ]
  },
  {
   "cell_type": "code",
   "execution_count": 88,
   "metadata": {},
   "outputs": [],
   "source": [
    "import numpy as np\n",
    "import time\n",
    "import matplotlib.pyplot as plt\n",
    "%matplotlib inline\n",
    "from keras.datasets import mnist\n",
    "from keras.utils import np_utils\n",
    "from keras.models import Sequential\n",
    "from keras.layers import Flatten, Conv2D, MaxPooling2D\n",
    "from keras.layers import Dense, Activation, Dropout\n",
    "from keras.optimizers import Adam\n",
    "from PIL import Image\n",
    "from tqdm import tqdm_notebook as tqdm\n",
    "(x_train, y_train), (x_test, y_test) = mnist.load_data()"
   ]
  },
  {
   "cell_type": "code",
   "execution_count": 89,
   "metadata": {},
   "outputs": [
    {
     "data": {
      "text/plain": [
       "[]"
      ]
     },
     "execution_count": 89,
     "metadata": {},
     "output_type": "execute_result"
    },
    {
     "data": {
      "image/png": "[encoded data removed]",
      "text/plain": [
       "<Figure size 432x288 with 1 Axes>"
      ]
     },
     "metadata": {
      "needs_background": "light"
     },
     "output_type": "display_data"
    }
   ],
   "source": [
    "text_images = []\n",
    "for i in range(10):\n",
    "    text_images.append(np.array(Image.open('text image/'+str(i)+'.png').convert('L')).reshape(28, 28))\n",
    "plt.imshow(text_images[0])\n",
    "plt.gray()\n",
    "plt.plot()"
   ]
  },
  {
   "cell_type": "code",
   "execution_count": 97,
   "metadata": {},
   "outputs": [
    {
     "data": {
      "application/vnd.jupyter.widget-view+json": {
       "model_id": "d01e84ff63af4aa597d846d0f53e34c8",
       "version_major": 2,
       "version_minor": 0
      },
      "text/plain": [
       "HBox(children=(IntProgress(value=0, max=10), HTML(value='')))"
      ]
     },
     "metadata": {},
     "output_type": "display_data"
    },
    {
     "name": "stdout",
     "output_type": "stream",
     "text": [
      "\n"
     ]
    }
   ],
   "source": [
    "(x_train, y_train), (x_test, y_test) = mnist.load_data()\n",
    "x_train = x_train.reshape(60000, 28, 28, 1)\n",
    "x_test = x_test.reshape(10000, 28, 28, 1)\n",
    "x_train = x_train.astype('float32')\n",
    "x_test = x_test.astype('float32')\n",
    "x_train /= 255\n",
    "x_test /= 255\n",
    "x_train_f = x_train.reshape(60000, 784)\n",
    "x_test_f = x_test.reshape(10000, 784)\n",
    "num_classes = 10\n",
    "y_train_k = np_utils.to_categorical(y_train, num_classes)\n",
    "y_test_k = np_utils.to_categorical(y_test, num_classes)\n",
    "\n",
    "y_train_img = np.zeros((len(y_train), 784))\n",
    "y_test_img = np.zeros((len(y_test), 784))\n",
    "for i in tqdm(range(10)):\n",
    "    indexes = np.where(y_train == i)\n",
    "    y_train_img[indexes] = text_images[i].reshape(784)\n",
    "    indexes = np.where(y_test == i)\n",
    "    y_test_img[indexes] = text_images[i].reshape(784)\n",
    "    \n",
    "y_train_img = y_train_img.astype('float32')\n",
    "y_test_img = y_test_img.astype('float32')\n",
    "y_train_img /= 255\n",
    "y_test_img /= 255\n",
    "y_train_img = 1 - y_train_img\n",
    "y_test_img = 1 - y_test_img"
   ]
  },
  {
   "cell_type": "code",
   "execution_count": 91,
   "metadata": {},
   "outputs": [
    {
     "name": "stdout",
     "output_type": "stream",
     "text": [
      "[5 0 4 ... 5 6 8]\n",
      "8\n"
     ]
    },
    {
     "data": {
      "text/plain": [
       "[]"
      ]
     },
     "execution_count": 91,
     "metadata": {},
     "output_type": "execute_result"
    },
    {
     "data": {
      "image/png": "[encoded data removed]",
      "text/plain": [
       "<Figure size 432x288 with 1 Axes>"
      ]
     },
     "metadata": {
      "needs_background": "light"
     },
     "output_type": "display_data"
    }
   ],
   "source": [
    "print(y_train)\n",
    "print(y_train[60000-1])\n",
    "plt.imshow(y_train_img[60000-1].reshape(28, 28))\n",
    "plt.plot()"
   ]
  },
  {
   "cell_type": "markdown",
   "metadata": {},
   "source": [
    "## Use Conv"
   ]
  },
  {
   "cell_type": "code",
   "execution_count": 103,
   "metadata": {},
   "outputs": [],
   "source": [
    "np.random.seed(1)\n",
    "from keras.models import Sequential\n",
    "from keras.layers import Dense, Activation\n",
    "from keras.optimizers import Adam\n",
    "\n",
    "modelConv = Sequential()\n",
    "modelConv.add(Conv2D(16, (3, 3), \n",
    "                input_shape=(28, 28, 1), activation='relu'))\n",
    "modelConv.add(Conv2D(32, (3, 3), activation='relu'))\n",
    "modelConv.add(MaxPooling2D(pool_size=(2, 2)))\n",
    "modelConv.add(Conv2D(64, (3, 3), activation='relu'))\n",
    "modelConv.add(MaxPooling2D(pool_size=(2, 2)))\n",
    "modelConv.add(Dropout(0.25))\n",
    "modelConv.add(Flatten())\n",
    "modelConv.add(Dense(128, activation='relu'))\n",
    "modelConv.add(Dropout(0.25))\n",
    "modelConv.add(Dense(784, activation='sigmoid'))\n",
    "modelConv.compile(loss='binary_crossentropy', optimizer=Adam(), metrics=['accuracy'])\n"
   ]
  },
  {
   "cell_type": "code",
   "execution_count": null,
   "metadata": {},
   "outputs": [],
   "source": [
    "#modelConv.fit(x_train, y_train_img, epochs=10, batch_size=1000,\n",
    "#         verbose=1, validation_data=(x_test, y_test_img))"
   ]
  },
  {
   "cell_type": "markdown",
   "metadata": {},
   "source": [
    "## Simple"
   ]
  },
  {
   "cell_type": "code",
   "execution_count": 102,
   "metadata": {},
   "outputs": [],
   "source": [
    "np.random.seed(1)\n",
    "from keras.models import Sequential\n",
    "from keras.layers import Dense, Activation\n",
    "from keras.optimizers import Adam\n",
    "\n",
    "modelSimp = Sequential()\n",
    "modelSimp.add(Dense(128, input_dim=784, activation='relu'))\n",
    "modelSimp.add(Dense(64, activation='relu'))\n",
    "modelSimp.add(Dense(32, activation='relu'))\n",
    "modelSimp.add(Dense(64, activation='relu'))\n",
    "modelSimp.add(Dense(128, activation='relu'))\n",
    "modelSimp.add(Dense(784, activation='sigmoid'))\n",
    "modelSimp.compile(loss='binary_crossentropy', optimizer=Adam(), metrics=['accuracy'])"
   ]
  },
  {
   "cell_type": "code",
   "execution_count": null,
   "metadata": {},
   "outputs": [],
   "source": [
    "#modelSimp.fit(x_train_f, y_train_img, epochs=10, batch_size=1000,\n",
    "#         verbose=1, validation_data=(x_test_f, y_test_img))"
   ]
  },
  {
   "cell_type": "code",
   "execution_count": 109,
   "metadata": {},
   "outputs": [
    {
     "data": {
      "image/png": "[encoded data removed]",
      "text/plain": [
       "<Figure size 432x288 with 30 Axes>"
      ]
     },
     "metadata": {
      "needs_background": "light"
     },
     "output_type": "display_data"
    }
   ],
   "source": [
    "useConv = True\n",
    "modelConv.load_weights('conv.hdf5')\n",
    "modelSimp.load_weights('simp.hdf5')\n",
    "if useConv:\n",
    "    image_pred = modelConv.predict_proba(x_test[:10], verbose=0)\n",
    "else:\n",
    "    image_pred = modelSimp.predict_proba(x_test_f[:10], verbose=0)\n",
    "#plt.imshow(x_test[0].reshape(28, 28))\n",
    "#plt.imshow(image_pred[1].reshape(28, 28))\n",
    "#plt.imshow(y_test_img[1].reshape(28, 28))\n",
    "#plt.show()\n",
    "\n",
    "fig, axes = plt.subplots(3, 10)\n",
    "for i, pred_img in enumerate(image_pred):\n",
    "    # 元画像を上段に表示する\n",
    "    img = x_test[i].reshape(28, 28)\n",
    "    axes[0][i].imshow(img)\n",
    "    axes[0][i].axis('off')\n",
    "    #axes[0][i].set_title(label, color='red')\n",
    "    # AutoEncoder で次元圧縮した画像を下段に表示する\n",
    "    axes[1][i].imshow(pred_img.reshape(28, 28))\n",
    "    axes[1][i].axis('off')\n",
    "    #AutoEncoder で復元した画像を下段に表示する\n",
    "    input_img = y_test_img[i].reshape(28, 28)\n",
    "    axes[2][i].imshow(input_img)\n",
    "    axes[2][i].axis('off')\n",
    "\n",
    "plt.show()"
   ]
  },
  {
   "cell_type": "markdown",
   "metadata": {},
   "source": [
    "### Send to Processing"
   ]
  },
  {
   "cell_type": "code",
   "execution_count": 121,
   "metadata": {},
   "outputs": [
    {
     "ename": "timeout",
     "evalue": "timed out",
     "output_type": "error",
     "traceback": [
      "\u001b[1;31m---------------------------------------------------------------------------\u001b[0m",
      "\u001b[1;31mtimeout\u001b[0m                                   Traceback (most recent call last)",
      "\u001b[1;32m<ipython-input-121-c138b32769c0>\u001b[0m in \u001b[0;36m<module>\u001b[1;34m\u001b[0m\n\u001b[0;32m     17\u001b[0m \u001b[1;32mwhile\u001b[0m \u001b[1;32mTrue\u001b[0m\u001b[1;33m:\u001b[0m\u001b[1;33m\u001b[0m\u001b[1;33m\u001b[0m\u001b[0m\n\u001b[0;32m     18\u001b[0m     \u001b[1;31m# 受信\u001b[0m\u001b[1;33m\u001b[0m\u001b[1;33m\u001b[0m\u001b[1;33m\u001b[0m\u001b[0m\n\u001b[1;32m---> 19\u001b[1;33m     \u001b[0mmsg\u001b[0m\u001b[1;33m,\u001b[0m \u001b[0maddress\u001b[0m \u001b[1;33m=\u001b[0m \u001b[0ms\u001b[0m\u001b[1;33m.\u001b[0m\u001b[0mrecvfrom\u001b[0m\u001b[1;33m(\u001b[0m\u001b[1;36m81920\u001b[0m\u001b[1;33m)\u001b[0m\u001b[1;33m\u001b[0m\u001b[1;33m\u001b[0m\u001b[0m\n\u001b[0m\u001b[0;32m     20\u001b[0m     \u001b[0mmsg\u001b[0m \u001b[1;33m=\u001b[0m \u001b[0mmsg\u001b[0m\u001b[1;33m.\u001b[0m\u001b[0mdecode\u001b[0m\u001b[1;33m(\u001b[0m\u001b[1;33m)\u001b[0m\u001b[1;33m\u001b[0m\u001b[1;33m\u001b[0m\u001b[0m\n\u001b[0;32m     21\u001b[0m     \u001b[1;32mif\u001b[0m \u001b[0mstr\u001b[0m\u001b[1;33m(\u001b[0m\u001b[0mmsg\u001b[0m\u001b[1;33m)\u001b[0m \u001b[1;33m==\u001b[0m \u001b[1;34m'exit'\u001b[0m\u001b[1;33m:\u001b[0m\u001b[1;33m\u001b[0m\u001b[1;33m\u001b[0m\u001b[0m\n",
      "\u001b[1;31mtimeout\u001b[0m: timed out"
     ]
    }
   ],
   "source": [
    "useConv = True\n",
    "modelConv.load_weights('conv.hdf5')\n",
    "modelSimp.load_weights('simp.hdf5')\n",
    "\n",
    "from socket import socket, AF_INET, SOCK_DGRAM\n",
    "\n",
    "HOST = \"localhost\"  \n",
    "PORT = 4000\n",
    "\n",
    "# ソケットを用意\n",
    "s = socket(AF_INET, SOCK_DGRAM)\n",
    "s.settimeout(1)\n",
    "# バインドしておく\n",
    "s.bind((HOST, PORT))\n",
    "last_pred = None\n",
    "\n",
    "while True:\n",
    "    # 受信\n",
    "    msg, address = s.recvfrom(81920)\n",
    "    msg = msg.decode()\n",
    "    if str(msg) == 'exit':\n",
    "        print(\"recieveExit\")\n",
    "        break\n",
    "    else:\n",
    "        #print(f\"message: {str(msg)}\\nfrom: {address}\")\n",
    "        #print(\"recieve\"+str(len(str(msg))))\n",
    "        msg = str(msg).split('\\n')\n",
    "        recvCSV = []\n",
    "        for i in msg:\n",
    "            recvCSV.append(i.split(' '))\n",
    "        if useConv:\n",
    "            pred_img = modelConv.predict_proba(np.array(recvCSV).reshape(1, 28, 28, 1)).reshape(28, 28)\n",
    "        else:\n",
    "            pred_img = modelSimp.predict_proba(np.array(recvCSV).reshape(1, 784)).reshape(28, 28)\n",
    "        last_pred = pred_img\n",
    "        #print(\"predict\")\n",
    "        msg = \"\"\n",
    "        for y in range(28):\n",
    "            for x in range(28):\n",
    "                msg += str(pred_img[x, y]) + \" \"\n",
    "            msg = msg[:-1]\n",
    "            msg += \"\\n\"\n",
    "        msg = msg[:-1]\n",
    "        #print(\"send\")\n",
    "        s.sendto(msg.encode(), (HOST, 4001))\n",
    "        #print(\"sent\"+str(len(msg)))\n",
    "\n",
    "# ソケットを閉じておく\n",
    "s.close()"
   ]
  },
  {
   "cell_type": "code",
   "execution_count": null,
   "metadata": {},
   "outputs": [],
   "source": [
    "plt.imshow(last_pred.reshape(28, 28))\n",
    "\n",
    "plt.show()"
   ]
  },
  {
   "cell_type": "markdown",
   "metadata": {},
   "source": [
    "## Categorize and Generate\n",
    "### Categorize"
   ]
  },
  {
   "cell_type": "code",
   "execution_count": 71,
   "metadata": {},
   "outputs": [],
   "source": [
    "modelC = Sequential()\n",
    "modelC.add(Conv2D(16, (3, 3), \n",
    "                input_shape=(28, 28, 1), activation='relu'))\n",
    "modelC.add(Conv2D(32, (3, 3), activation='relu'))\n",
    "modelC.add(MaxPooling2D(pool_size=(2, 2)))\n",
    "modelC.add(Conv2D(64, (3, 3), activation='relu'))\n",
    "modelC.add(MaxPooling2D(pool_size=(2, 2)))\n",
    "modelC.add(Dropout(0.25))\n",
    "modelC.add(Flatten())\n",
    "modelC.add(Dense(128, activation='softmax'))\n",
    "modelC.add(Dropout(0.25))\n",
    "modelC.add(Dense(num_classes, activation='softmax'))\n",
    "\n",
    "modelC.compile(loss='categorical_crossentropy',\n",
    "             optimizer=Adam(),\n",
    "             metrics=['accuracy'])\n",
    "\n",
    "#model.fit(x_train, y_train_k, batch_size=1000, epochs=20,\n",
    "#                  verbose=1, validation_data=(x_test, y_test_k))\n",
    "#model.save_weights('categorizer.hdf5')"
   ]
  },
  {
   "cell_type": "markdown",
   "metadata": {},
   "source": [
    "### Generate"
   ]
  },
  {
   "cell_type": "code",
   "execution_count": 70,
   "metadata": {},
   "outputs": [],
   "source": [
    "modelG = Sequential()\n",
    "modelG.add(Dense(32, input_dim=10, activation='relu'))\n",
    "modelG.add(Dense(64, activation='relu'))\n",
    "modelG.add(Dense(128, activation='relu'))\n",
    "modelG.add(Dense(784, activation='sigmoid'))\n",
    "modelG.compile(loss='binary_crossentropy', optimizer=Adam(), metrics=['accuracy'])\n",
    "\n",
    "#model.fit(y_train_k, y_train_img, epochs=10, batch_size=1000,\n",
    "#         verbose=1, validation_data=(y_test_k, y_test_img))\n",
    "#model.save_weights('generator.hdf5')"
   ]
  },
  {
   "cell_type": "code",
   "execution_count": 107,
   "metadata": {},
   "outputs": [
    {
     "data": {
      "image/png": "[encoded data removed]",
      "text/plain": [
       "<Figure size 432x288 with 30 Axes>"
      ]
     },
     "metadata": {
      "needs_background": "light"
     },
     "output_type": "display_data"
    }
   ],
   "source": [
    "modelC.load_weights('categorizer.hdf5')\n",
    "modelG.load_weights('generator.hdf5')\n",
    "cate_pred = modelC.predict_classes(x_test[:10], verbose=0)\n",
    "#cate_pred = modelC.predict_proba(x_test[:10], verbose=0)\n",
    "#cate_pred = np.array([0, 1, 2, 3, 4, 5, 6, 7, 8, 9])\n",
    "cate_pred = np_utils.to_categorical(cate_pred, 10)\n",
    "image_pred = modelG.predict_proba(cate_pred, verbose=0)\n",
    "\n",
    "#plt.imshow(x_test[0].reshape(28, 28))\n",
    "#plt.imshow(image_pred[1].reshape(28, 28))\n",
    "#plt.imshow(y_test_img[1].reshape(28, 28))\n",
    "#plt.show()\n",
    "\n",
    "fig, axes = plt.subplots(3, 10)\n",
    "for i, pred_img in enumerate(image_pred):\n",
    "    # 元画像を上段に表示する\n",
    "    img = x_test[i].reshape(28, 28)\n",
    "    axes[0][i].imshow(img)\n",
    "    axes[0][i].axis('off')\n",
    "    #axes[0][i].set_title(label, color='red')\n",
    "    # AutoEncoder で次元圧縮した画像を下段に表示する\n",
    "    axes[1][i].imshow(pred_img.reshape(28, 28))\n",
    "    axes[1][i].axis('off')\n",
    "    #AutoEncoder で復元した画像を下段に表示する\n",
    "    input_img = y_test_img[i].reshape(28, 28)\n",
    "    axes[2][i].imshow(input_img)\n",
    "    axes[2][i].axis('off')\n",
    "\n",
    "plt.show()"
   ]
  },
  {
   "cell_type": "code",
   "execution_count": 123,
   "metadata": {},
   "outputs": [
    {
     "ename": "timeout",
     "evalue": "timed out",
     "output_type": "error",
     "traceback": [
      "\u001b[1;31m---------------------------------------------------------------------------\u001b[0m",
      "\u001b[1;31mtimeout\u001b[0m                                   Traceback (most recent call last)",
      "\u001b[1;32m<ipython-input-123-40b1231e45ee>\u001b[0m in \u001b[0;36m<module>\u001b[1;34m\u001b[0m\n\u001b[0;32m     14\u001b[0m \u001b[1;32mwhile\u001b[0m \u001b[1;32mTrue\u001b[0m\u001b[1;33m:\u001b[0m\u001b[1;33m\u001b[0m\u001b[1;33m\u001b[0m\u001b[0m\n\u001b[0;32m     15\u001b[0m     \u001b[1;31m# 受信\u001b[0m\u001b[1;33m\u001b[0m\u001b[1;33m\u001b[0m\u001b[1;33m\u001b[0m\u001b[0m\n\u001b[1;32m---> 16\u001b[1;33m     \u001b[0mmsg\u001b[0m\u001b[1;33m,\u001b[0m \u001b[0maddress\u001b[0m \u001b[1;33m=\u001b[0m \u001b[0ms\u001b[0m\u001b[1;33m.\u001b[0m\u001b[0mrecvfrom\u001b[0m\u001b[1;33m(\u001b[0m\u001b[1;36m81920\u001b[0m\u001b[1;33m)\u001b[0m\u001b[1;33m\u001b[0m\u001b[1;33m\u001b[0m\u001b[0m\n\u001b[0m\u001b[0;32m     17\u001b[0m     \u001b[0mmsg\u001b[0m \u001b[1;33m=\u001b[0m \u001b[0mmsg\u001b[0m\u001b[1;33m.\u001b[0m\u001b[0mdecode\u001b[0m\u001b[1;33m(\u001b[0m\u001b[1;33m)\u001b[0m\u001b[1;33m\u001b[0m\u001b[1;33m\u001b[0m\u001b[0m\n\u001b[0;32m     18\u001b[0m     \u001b[1;32mif\u001b[0m \u001b[0mstr\u001b[0m\u001b[1;33m(\u001b[0m\u001b[0mmsg\u001b[0m\u001b[1;33m)\u001b[0m \u001b[1;33m==\u001b[0m \u001b[1;34m'exit'\u001b[0m\u001b[1;33m:\u001b[0m\u001b[1;33m\u001b[0m\u001b[1;33m\u001b[0m\u001b[0m\n",
      "\u001b[1;31mtimeout\u001b[0m: timed out"
     ]
    }
   ],
   "source": [
    "selectClass = False\n",
    "from socket import socket, AF_INET, SOCK_DGRAM\n",
    "\n",
    "HOST = \"localhost\"  \n",
    "PORT = 4000\n",
    "\n",
    "# ソケットを用意\n",
    "s = socket(AF_INET, SOCK_DGRAM)\n",
    "s.settimeout(1)\n",
    "# バインドしておく\n",
    "s.bind((HOST, PORT))\n",
    "last_pred = None\n",
    "\n",
    "while True:\n",
    "    # 受信\n",
    "    msg, address = s.recvfrom(81920)\n",
    "    msg = msg.decode()\n",
    "    if str(msg) == 'exit':\n",
    "        print(\"recieveExit\")\n",
    "        break\n",
    "    else:\n",
    "        #print(f\"message: {str(msg)}\\nfrom: {address}\")\n",
    "        #print(\"recieve\"+str(len(str(msg))))\n",
    "        msg = str(msg).split('\\n')\n",
    "        recvCSV = []\n",
    "        for i in msg:\n",
    "            recvCSV.append(i.split(' '))\n",
    "        if selectClass:\n",
    "            pred_cate = modelC.predict_classes(np.array(recvCSV).reshape(1, 28, 28, 1))\n",
    "            pred_cate = np_utils.to_categorical(pred_cate, 10)\n",
    "        else:\n",
    "            pred_cate = modelC.predict_proba(np.array(recvCSV).reshape(1, 28, 28, 1))\n",
    "        pred_img = modelG.predict_proba(pred_cate).reshape(28, 28)\n",
    "        last_pred = pred_img\n",
    "        #print(\"predict\")\n",
    "        msg = \"\"\n",
    "        for y in range(28):\n",
    "            for x in range(28):\n",
    "                msg += str(pred_img[x, y]) + \" \"\n",
    "            msg = msg[:-1]\n",
    "            msg += \"\\n\"\n",
    "        msg = msg[:-1]\n",
    "        #print(\"send\")\n",
    "        s.sendto(msg.encode(), (HOST, 4001))\n",
    "        #print(\"sent\"+str(len(msg)))\n",
    "\n",
    "# ソケットを閉じておく\n",
    "s.close()"
   ]
  },
  {
   "cell_type": "code",
   "execution_count": null,
   "metadata": {},
   "outputs": [],
   "source": []
  }
 ],
 "metadata": {
  "kernelspec": {
   "display_name": "Python 3",
   "language": "python",
   "name": "python3"
  },
  "language_info": {
   "codemirror_mode": {
    "name": "ipython",
    "version": 3
   },
   "file_extension": ".py",
   "mimetype": "text/x-python",
   "name": "python",
   "nbconvert_exporter": "python",
   "pygments_lexer": "ipython3",
   "version": "3.7.4"
  }
 },
 "nbformat": 4,
 "nbformat_minor": 4
}
