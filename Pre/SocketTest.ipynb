{
 "cells": [
  {
   "cell_type": "markdown",
   "metadata": {},
   "source": [
    "# SocketTest\n",
    "## TCP\n",
    "### Server"
   ]
  },
  {
   "cell_type": "code",
   "execution_count": null,
   "metadata": {},
   "outputs": [
    {
     "name": "stdout",
     "output_type": "stream",
     "text": [
      "data : b't\\n', addr: ('192.168.0.6', 53778)\n"
     ]
    }
   ],
   "source": [
    "import socket\n",
    "\n",
    "with socket.socket(socket.AF_INET, socket.SOCK_STREAM) as s:\n",
    "    s.bind(('MainPC.local', 5000))\n",
    "    s.listen(1)\n",
    "    while True:\n",
    "        conn, addr = s.accept()\n",
    "        with conn:\n",
    "            while True:\n",
    "                data = conn.recv(1024)\n",
    "                if not data:\n",
    "                    break\n",
    "                print('data : {}, addr: {}'.format(data, addr))\n",
    "                conn.sendall(b'Received: ' + data)\n"
   ]
  },
  {
   "cell_type": "markdown",
   "metadata": {},
   "source": [
    "### Client"
   ]
  },
  {
   "cell_type": "code",
   "execution_count": 1,
   "metadata": {},
   "outputs": [
    {
     "name": "stdin",
     "output_type": "stream",
     "text": [
      "Please input >  none\n"
     ]
    },
    {
     "name": "stdout",
     "output_type": "stream",
     "text": [
      "Received: none\n"
     ]
    }
   ],
   "source": [
    "import socket\n",
    "import time\n",
    "PORT = 5000\n",
    "BUFFER_SIZE = 1024\n",
    "\n",
    "with socket.socket(socket.AF_INET, socket.SOCK_STREAM) as s:\n",
    "    s.connect(('nekodigi.local', PORT))\n",
    "    data = input('Please input > ')\n",
    "    s.send(data.encode())\n",
    "    print(s.recv(BUFFER_SIZE).decode())"
   ]
  },
  {
   "cell_type": "markdown",
   "metadata": {},
   "source": [
    "## UDP\n",
    "### Server"
   ]
  },
  {
   "cell_type": "code",
   "execution_count": null,
   "metadata": {},
   "outputs": [],
   "source": [
    "from socket import socket, AF_INET, SOCK_DGRAM\n",
    "\n",
    "HOST = \"MainPC\"  \n",
    "PORT = 5000\n",
    "\n",
    "# ソケットを用意\n",
    "s = socket(AF_INET, SOCK_DGRAM)\n",
    "# バインドしておく\n",
    "s.bind((HOST, PORT))\n",
    "\n",
    "while True:\n",
    "    # 受信\n",
    "    msg, address = s.recvfrom(8192)\n",
    "    msg = msg.decode()\n",
    "    if str(msg) == 'exit':\n",
    "        print(\"recieveExit\")\n",
    "        break\n",
    "    else:\n",
    "        print(f\"message: {str(msg)}\\nfrom: {address}\")\n",
    "\n",
    "# ソケットを閉じておく\n",
    "s.close()"
   ]
  },
  {
   "cell_type": "markdown",
   "metadata": {},
   "source": [
    "### Client"
   ]
  },
  {
   "cell_type": "code",
   "execution_count": 2,
   "metadata": {},
   "outputs": [
    {
     "name": "stdin",
     "output_type": "stream",
     "text": [
      ">  request\n",
      ">  exit\n"
     ]
    },
    {
     "ename": "gaierror",
     "evalue": "[Errno 11001] getaddrinfo failed",
     "output_type": "error",
     "traceback": [
      "\u001b[1;31m---------------------------------------------------------------------------\u001b[0m",
      "\u001b[1;31mgaierror\u001b[0m                                  Traceback (most recent call last)",
      "\u001b[1;32m<ipython-input-2-ffb631b4da31>\u001b[0m in \u001b[0;36m<module>\u001b[1;34m\u001b[0m\n\u001b[0;32m     14\u001b[0m     \u001b[1;31m# 送信\u001b[0m\u001b[1;33m\u001b[0m\u001b[1;33m\u001b[0m\u001b[1;33m\u001b[0m\u001b[0m\n\u001b[0;32m     15\u001b[0m     \u001b[1;32mif\u001b[0m \u001b[0mmsg\u001b[0m \u001b[1;33m==\u001b[0m \u001b[1;34m'exit'\u001b[0m\u001b[1;33m:\u001b[0m\u001b[1;33m\u001b[0m\u001b[1;33m\u001b[0m\u001b[0m\n\u001b[1;32m---> 16\u001b[1;33m         \u001b[0ms\u001b[0m\u001b[1;33m.\u001b[0m\u001b[0msendto\u001b[0m\u001b[1;33m(\u001b[0m\u001b[0mmsg\u001b[0m\u001b[1;33m.\u001b[0m\u001b[0mencode\u001b[0m\u001b[1;33m(\u001b[0m\u001b[1;33m)\u001b[0m\u001b[1;33m,\u001b[0m \u001b[1;33m(\u001b[0m\u001b[0mADDRESS\u001b[0m\u001b[1;33m,\u001b[0m \u001b[0mPORT\u001b[0m\u001b[1;33m)\u001b[0m\u001b[1;33m)\u001b[0m\u001b[1;33m\u001b[0m\u001b[1;33m\u001b[0m\u001b[0m\n\u001b[0m\u001b[0;32m     17\u001b[0m         \u001b[1;32mbreak\u001b[0m\u001b[1;33m\u001b[0m\u001b[1;33m\u001b[0m\u001b[0m\n\u001b[0;32m     18\u001b[0m     \u001b[1;32melse\u001b[0m\u001b[1;33m:\u001b[0m\u001b[1;33m\u001b[0m\u001b[1;33m\u001b[0m\u001b[0m\n",
      "\u001b[1;31mgaierror\u001b[0m: [Errno 11001] getaddrinfo failed"
     ]
    }
   ],
   "source": [
    "from socket import socket, AF_INET, SOCK_DGRAM\n",
    "\n",
    "HOST = ''\n",
    "PORT = 5000\n",
    "ADDRESS = \"nekodigi.local\" # 自分に送信\n",
    "\n",
    "s = socket(AF_INET, SOCK_DGRAM)\n",
    "# ブロードキャストする場合は、ADDRESSを\n",
    "# ブロードキャスト用に設定して、以下のコメントを外す\n",
    "# s.setsockopt(SOL_SOCKET, SO_BROADCAST, 1)\n",
    "\n",
    "while True:\n",
    "    msg = input(\"> \")\n",
    "    # 送信\n",
    "    if msg == 'exit':\n",
    "        s.sendto(msg.encode(), (ADDRESS, PORT))\n",
    "        break\n",
    "    else:\n",
    "        s.sendto(msg.encode(), (ADDRESS, PORT))\n",
    "\n",
    "s.close()"
   ]
  },
  {
   "cell_type": "code",
   "execution_count": null,
   "metadata": {},
   "outputs": [],
   "source": []
  }
 ],
 "metadata": {
  "kernelspec": {
   "display_name": "Python 3",
   "language": "python",
   "name": "python3"
  },
  "language_info": {
   "codemirror_mode": {
    "name": "ipython",
    "version": 3
   },
   "file_extension": ".py",
   "mimetype": "text/x-python",
   "name": "python",
   "nbconvert_exporter": "python",
   "pygments_lexer": "ipython3",
   "version": "3.7.4"
  }
 },
 "nbformat": 4,
 "nbformat_minor": 4
}
