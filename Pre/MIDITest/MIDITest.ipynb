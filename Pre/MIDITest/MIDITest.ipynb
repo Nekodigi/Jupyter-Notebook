{
 "cells": [
  {
   "cell_type": "markdown",
   "metadata": {},
   "source": [
    "# MIDI Test"
   ]
  },
  {
   "cell_type": "code",
   "execution_count": 1,
   "metadata": {},
   "outputs": [
    {
     "name": "stdout",
     "output_type": "stream",
     "text": [
      "Instrument(program=0, is_drum=False, name=\"\")\n",
      "0.0 0.34090899999999996 66 100\n",
      "0.34090899999999996 0.6818179999999999 62 100\n",
      "0.6818179999999999 1.022727 57 100\n",
      "1.022727 1.3636359999999998 62 100\n",
      "0.6818179999999999 1.3636359999999998 54 100\n",
      "1.3636359999999998 1.704545 64 100\n",
      "1.704545 2.4715902499999998 69 100\n",
      "1.3636359999999998 2.4715902499999998 61 100\n",
      "2.4715902499999998 2.8124992499999997 52 100\n",
      "2.8124992499999997 3.15340825 64 100\n",
      "3.15340825 3.49431725 66 100\n",
      "2.8124992499999997 3.49431725 57 100\n",
      "3.49431725 3.83522625 64 100\n",
      "3.49431725 3.83522625 57 100\n",
      "3.83522625 4.17613525 57 100\n",
      "4.17613525 5.1988622499999995 62 100\n",
      "4.17613525 5.539771249999999 54 100\n",
      "/\n"
     ]
    }
   ],
   "source": [
    "import pretty_midi\n",
    "import numpy as np\n",
    "\n",
    "result = ''\n",
    "midi_data = pretty_midi.PrettyMIDI('nc21448.mid')#任意のファイルに\n",
    "# トラック別で取得\n",
    "midi_tracks = midi_data.instruments\n",
    "# トラック１のノートを取得\n",
    "notes = midi_tracks[0].notes\n",
    "i = 0\n",
    "for tracks in midi_tracks:\n",
    "    print(tracks)\n",
    "    for note in tracks.notes:\n",
    "        result += str(note.start) + ' ' + str(note.end) + ' ' + str(note.pitch) + ' ' + str(note.velocity) + '\\n'\n",
    "        #print(note)\n",
    "        i+=1\n",
    "    result += '/'\n",
    "    \n",
    "print(result)\n",
    "with open('midi2csv.txt', mode='w') as f:\n",
    "    f.write(result)"
   ]
  },
  {
   "cell_type": "code",
   "execution_count": null,
   "metadata": {},
   "outputs": [],
   "source": []
  },
  {
   "cell_type": "code",
   "execution_count": null,
   "metadata": {},
   "outputs": [],
   "source": []
  }
 ],
 "metadata": {
  "kernelspec": {
   "display_name": "Python 3",
   "language": "python",
   "name": "python3"
  },
  "language_info": {
   "codemirror_mode": {
    "name": "ipython",
    "version": 3
   },
   "file_extension": ".py",
   "mimetype": "text/x-python",
   "name": "python",
   "nbconvert_exporter": "python",
   "pygments_lexer": "ipython3",
   "version": "3.7.3"
  }
 },
 "nbformat": 4,
 "nbformat_minor": 2
}
