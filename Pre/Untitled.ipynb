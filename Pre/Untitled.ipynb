{
 "cells": [
  {
   "cell_type": "markdown",
   "metadata": {},
   "source": [
    "# SocketTest\n",
    "## TCP\n",
    "### Server"
   ]
  },
  {
   "cell_type": "code",
   "execution_count": 17,
   "metadata": {},
   "outputs": [
    {
     "name": "stdout",
     "output_type": "stream",
     "text": [
      "data : b'y\\n', addr: ('127.0.0.1', 58037)\n",
      "data : b'test\\n', addr: ('127.0.0.1', 58140)\n"
     ]
    },
    {
     "ename": "ConnectionResetError",
     "evalue": "[WinError 10054] 既存の接続はリモート ホストに強制的に切断されました。",
     "output_type": "error",
     "traceback": [
      "\u001b[1;31m---------------------------------------------------------------------------\u001b[0m",
      "\u001b[1;31mConnectionResetError\u001b[0m                      Traceback (most recent call last)",
      "\u001b[1;32m<ipython-input-17-7c89a2ff11a0>\u001b[0m in \u001b[0;36m<module>\u001b[1;34m\u001b[0m\n\u001b[0;32m     15\u001b[0m             \u001b[1;32mwhile\u001b[0m \u001b[1;32mTrue\u001b[0m\u001b[1;33m:\u001b[0m\u001b[1;33m\u001b[0m\u001b[1;33m\u001b[0m\u001b[0m\n\u001b[0;32m     16\u001b[0m                 \u001b[1;31m# �f�[�^���󂯎��\u001b[0m\u001b[1;33m\u001b[0m\u001b[1;33m\u001b[0m\u001b[1;33m\u001b[0m\u001b[0m\n\u001b[1;32m---> 17\u001b[1;33m                 \u001b[0mdata\u001b[0m \u001b[1;33m=\u001b[0m \u001b[0mconn\u001b[0m\u001b[1;33m.\u001b[0m\u001b[0mrecv\u001b[0m\u001b[1;33m(\u001b[0m\u001b[1;36m1024\u001b[0m\u001b[1;33m)\u001b[0m\u001b[1;33m\u001b[0m\u001b[1;33m\u001b[0m\u001b[0m\n\u001b[0m\u001b[0;32m     18\u001b[0m                 \u001b[1;32mif\u001b[0m \u001b[1;32mnot\u001b[0m \u001b[0mdata\u001b[0m\u001b[1;33m:\u001b[0m\u001b[1;33m\u001b[0m\u001b[1;33m\u001b[0m\u001b[0m\n\u001b[0;32m     19\u001b[0m                     \u001b[1;32mbreak\u001b[0m\u001b[1;33m\u001b[0m\u001b[1;33m\u001b[0m\u001b[0m\n",
      "\u001b[1;31mConnectionResetError\u001b[0m: [WinError 10054] 既存の接続はリモート ホストに強制的に切断されました。"
     ]
    }
   ],
   "source": [
    "import socket\n",
    "\n",
    "# AF = IPv4 �Ƃ����Ӗ�\n",
    "# TCP/IP �̏ꍇ�́ASOCK_STREAM ���g��\n",
    "with socket.socket(socket.AF_INET, socket.SOCK_STREAM) as s:\n",
    "    # IP�A�h���X�ƃ|�[�g���w��\n",
    "    s.bind(('127.0.0.1', 5007))\n",
    "    # 1 �ڑ�\n",
    "    s.listen(1)\n",
    "    # connection ����܂ő҂�\n",
    "    while True:\n",
    "        # �N�����A�N�Z�X���Ă�����A�R�l�N�V�����ƃA�h���X������\n",
    "        conn, addr = s.accept()\n",
    "        with conn:\n",
    "            while True:\n",
    "                # �f�[�^���󂯎��\n",
    "                data = conn.recv(1024)\n",
    "                if not data:\n",
    "                    break\n",
    "                print('data : {}, addr: {}'.format(data, addr))\n",
    "                # �N���C�A���g�Ƀf�[�^��Ԃ�(b -> byte �łȂ��Ƃ����Ȃ�)\n",
    "                conn.sendall(b'Received: ' + data)\n"
   ]
  },
  {
   "cell_type": "markdown",
   "metadata": {},
   "source": [
    "### Client"
   ]
  },
  {
   "cell_type": "code",
   "execution_count": 18,
   "metadata": {},
   "outputs": [
    {
     "name": "stdin",
     "output_type": "stream",
     "text": [
      "Please input >  y\n"
     ]
    },
    {
     "name": "stdout",
     "output_type": "stream",
     "text": [
      "y\n",
      "\n",
      "withExit\n"
     ]
    }
   ],
   "source": [
    "import socket\n",
    "import time\n",
    "PORT = 5007\n",
    "BUFFER_SIZE = 1024\n",
    "\n",
    "with socket.socket(socket.AF_INET, socket.SOCK_STREAM) as s:\n",
    "    s.connect(('127.0.0.1', PORT))\n",
    "    data = input('Please input > ')+\"\\n\"\n",
    "    s.send(data.encode())\n",
    "    print(s.recv(BUFFER_SIZE).decode())\n",
    "    time.sleep(1)\n",
    "    "
   ]
  },
  {
   "cell_type": "markdown",
   "metadata": {},
   "source": [
    "## UDP\n",
    "### Server"
   ]
  },
  {
   "cell_type": "code",
   "execution_count": 4,
   "metadata": {},
   "outputs": [
    {
     "name": "stdout",
     "output_type": "stream",
     "text": [
      "message: hello\n",
      "from: ('192.168.0.2', 45643)\n",
      "recieveExit\n"
     ]
    }
   ],
   "source": [
    "from socket import socket, AF_INET, SOCK_DGRAM\n",
    "\n",
    "HOST = \"MainPC\"  \n",
    "PORT = 5000\n",
    "\n",
    "# ソケットを用意\n",
    "s = socket(AF_INET, SOCK_DGRAM)\n",
    "# バインドしておく\n",
    "s.bind((HOST, PORT))\n",
    "\n",
    "while True:\n",
    "    # 受信\n",
    "    msg, address = s.recvfrom(8192)\n",
    "    msg = msg.decode()\n",
    "    if str(msg) == 'exit':\n",
    "        print(\"recieveExit\")\n",
    "        break\n",
    "    else:\n",
    "        print(f\"message: {str(msg)}\\nfrom: {address}\")\n",
    "\n",
    "# ソケットを閉じておく\n",
    "s.close()"
   ]
  },
  {
   "cell_type": "markdown",
   "metadata": {},
   "source": [
    "### Client"
   ]
  },
  {
   "cell_type": "code",
   "execution_count": 3,
   "metadata": {},
   "outputs": [
    {
     "name": "stdin",
     "output_type": "stream",
     "text": [
      ">  t\n",
      ">  ge\n",
      ">  tra\n",
      ">  exit\n"
     ]
    }
   ],
   "source": [
    "from socket import socket, AF_INET, SOCK_DGRAM\n",
    "\n",
    "HOST = ''\n",
    "PORT = 5000\n",
    "ADDRESS = \"nekodigi.local\" # 自分に送信\n",
    "\n",
    "s = socket(AF_INET, SOCK_DGRAM)\n",
    "# ブロードキャストする場合は、ADDRESSを\n",
    "# ブロードキャスト用に設定して、以下のコメントを外す\n",
    "# s.setsockopt(SOL_SOCKET, SO_BROADCAST, 1)\n",
    "\n",
    "while True:\n",
    "    msg = input(\"> \")\n",
    "    # 送信\n",
    "    if msg == 'exit':\n",
    "        s.sendto(msg.encode(), (ADDRESS, PORT))\n",
    "        break\n",
    "    else:\n",
    "        s.sendto(msg.encode(), (ADDRESS, PORT))\n",
    "\n",
    "s.close()"
   ]
  },
  {
   "cell_type": "code",
   "execution_count": null,
   "metadata": {},
   "outputs": [],
   "source": []
  }
 ],
 "metadata": {
  "kernelspec": {
   "display_name": "Python 3",
   "language": "python",
   "name": "python3"
  },
  "language_info": {
   "codemirror_mode": {
    "name": "ipython",
    "version": 3
   },
   "file_extension": ".py",
   "mimetype": "text/x-python",
   "name": "python",
   "nbconvert_exporter": "python",
   "pygments_lexer": "ipython3",
   "version": "3.7.4"
  }
 },
 "nbformat": 4,
 "nbformat_minor": 4
}
