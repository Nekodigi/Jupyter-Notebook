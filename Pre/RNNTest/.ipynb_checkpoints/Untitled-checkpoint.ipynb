{
 "cells": [
  {
   "cell_type": "markdown",
   "metadata": {},
   "source": [
    "# RNN\n",
    "### import"
   ]
  },
  {
   "cell_type": "code",
   "execution_count": 1,
   "metadata": {},
   "outputs": [
    {
     "name": "stderr",
     "output_type": "stream",
     "text": [
      "Using TensorFlow backend.\n"
     ]
    }
   ],
   "source": [
    "from keras.models import Sequential\n",
    "from keras.layers.core import Dense, Activation\n",
    "from keras.layers.recurrent import LSTM\n",
    "from keras.optimizers import Adam\n",
    "from keras.callbacks import EarlyStopping\n",
    "import numpy as np\n",
    "import matplotlib.pyplot as plt"
   ]
  },
  {
   "cell_type": "code",
   "execution_count": 2,
   "metadata": {},
   "outputs": [],
   "source": [
    "def sin(x, T=100):\n",
    "    return np.sin(2.0 * np.pi * x / T)\n",
    "\n",
    "# sin波にノイズを付与する\n",
    "def toy_problem(T=100, ampl=0.05):\n",
    "    x = np.arange(0, 2 * T + 1)\n",
    "    noise = ampl * np.random.uniform(low=-1.0, high=1.0, size=len(x))\n",
    "    return sin(x) + noise\n",
    "\n",
    "f = toy_problem()"
   ]
  },
  {
   "cell_type": "code",
   "execution_count": 3,
   "metadata": {},
   "outputs": [],
   "source": [
    "def make_dataset(low_data, n_prev=100):\n",
    "\n",
    "    data, target = [], []\n",
    "    maxlen = 25\n",
    "\n",
    "    for i in range(len(low_data)-maxlen):\n",
    "        data.append(low_data[i:i + maxlen])\n",
    "        target.append(low_data[i + maxlen])\n",
    "\n",
    "    re_data = np.array(data).reshape(len(data), maxlen, 1)\n",
    "    re_target = np.array(target).reshape(len(data), 1)\n",
    "\n",
    "    return re_data, re_target\n",
    "\n",
    "\n",
    "#g -> 学習データ，h -> 学習ラベル\n",
    "g, h = make_dataset(f)"
   ]
  },
  {
   "cell_type": "code",
   "execution_count": 4,
   "metadata": {},
   "outputs": [],
   "source": [
    "length_of_sequence = g.shape[1] \n",
    "in_out_neurons = 1\n",
    "n_hidden = 300\n",
    "\n",
    "model = Sequential()\n",
    "model.add(LSTM(n_hidden, batch_input_shape=(None, length_of_sequence, in_out_neurons), return_sequences=False))\n",
    "model.add(Dense(in_out_neurons))\n",
    "model.add(Activation(\"linear\"))\n",
    "optimizer = Adam(lr=0.001)\n",
    "model.compile(loss=\"mean_squared_error\", optimizer=optimizer)"
   ]
  },
  {
   "cell_type": "code",
   "execution_count": 5,
   "metadata": {},
   "outputs": [
    {
     "name": "stdout",
     "output_type": "stream",
     "text": [
      "Train on 158 samples, validate on 18 samples\n",
      "Epoch 1/100\n",
      "158/158 [==============================] - 0s 3ms/step - loss: 0.6416 - val_loss: 0.1700\n",
      "Epoch 2/100\n",
      "158/158 [==============================] - 0s 927us/step - loss: 0.4034 - val_loss: 0.0518\n",
      "Epoch 3/100\n",
      "158/158 [==============================] - 0s 933us/step - loss: 0.2343 - val_loss: 0.0619\n",
      "Epoch 4/100\n",
      "158/158 [==============================] - 0s 822us/step - loss: 0.1439 - val_loss: 0.2125\n",
      "Epoch 5/100\n",
      "158/158 [==============================] - 0s 840us/step - loss: 0.1431 - val_loss: 0.2171\n",
      "Epoch 6/100\n",
      "158/158 [==============================] - 0s 871us/step - loss: 0.1117 - val_loss: 0.1165\n",
      "Epoch 7/100\n",
      "158/158 [==============================] - 0s 828us/step - loss: 0.0663 - val_loss: 0.0464\n",
      "Epoch 8/100\n",
      "158/158 [==============================] - 0s 877us/step - loss: 0.0461 - val_loss: 0.0189\n",
      "Epoch 9/100\n",
      "158/158 [==============================] - 0s 902us/step - loss: 0.0441 - val_loss: 0.0121\n",
      "Epoch 10/100\n",
      "158/158 [==============================] - 0s 846us/step - loss: 0.0460 - val_loss: 0.0113\n",
      "Epoch 11/100\n",
      "158/158 [==============================] - 0s 822us/step - loss: 0.0440 - val_loss: 0.0106\n",
      "Epoch 12/100\n",
      "158/158 [==============================] - 0s 896us/step - loss: 0.0365 - val_loss: 0.0088\n",
      "Epoch 13/100\n",
      "158/158 [==============================] - 0s 852us/step - loss: 0.0253 - val_loss: 0.0069\n",
      "Epoch 14/100\n",
      "158/158 [==============================] - 0s 871us/step - loss: 0.0144 - val_loss: 0.0067\n",
      "Epoch 15/100\n",
      "158/158 [==============================] - 0s 859us/step - loss: 0.0089 - val_loss: 0.0093\n",
      "Epoch 16/100\n",
      "158/158 [==============================] - 0s 815us/step - loss: 0.0110 - val_loss: 0.0114\n",
      "Epoch 17/100\n",
      "158/158 [==============================] - 0s 828us/step - loss: 0.0130 - val_loss: 0.0082\n",
      "Epoch 18/100\n",
      "158/158 [==============================] - 0s 871us/step - loss: 0.0082 - val_loss: 0.0029\n",
      "Epoch 19/100\n",
      "158/158 [==============================] - 0s 871us/step - loss: 0.0033 - val_loss: 0.0014\n",
      "Epoch 20/100\n",
      "158/158 [==============================] - 0s 902us/step - loss: 0.0038 - val_loss: 0.0040\n",
      "Epoch 21/100\n",
      "158/158 [==============================] - 0s 1ms/step - loss: 0.0063 - val_loss: 0.0061\n",
      "Epoch 22/100\n",
      "158/158 [==============================] - 0s 939us/step - loss: 0.0066 - val_loss: 0.0053\n",
      "Epoch 23/100\n",
      "158/158 [==============================] - 0s 871us/step - loss: 0.0049 - val_loss: 0.0031\n",
      "Epoch 24/100\n",
      "158/158 [==============================] - 0s 896us/step - loss: 0.0030 - val_loss: 0.0015\n",
      "Epoch 25/100\n",
      "158/158 [==============================] - 0s 920us/step - loss: 0.0023 - val_loss: 0.0013\n",
      "Epoch 26/100\n",
      "158/158 [==============================] - 0s 945us/step - loss: 0.0031 - val_loss: 0.0019\n",
      "Epoch 27/100\n",
      "158/158 [==============================] - 0s 902us/step - loss: 0.0046 - val_loss: 0.0019\n",
      "Epoch 28/100\n",
      "158/158 [==============================] - 0s 908us/step - loss: 0.0055 - val_loss: 0.0014\n",
      "Epoch 29/100\n",
      "158/158 [==============================] - 0s 828us/step - loss: 0.0052 - val_loss: 0.0015\n",
      "Epoch 30/100\n",
      "158/158 [==============================] - 0s 834us/step - loss: 0.0043 - val_loss: 0.0027\n",
      "Epoch 31/100\n",
      "158/158 [==============================] - 0s 865us/step - loss: 0.0035 - val_loss: 0.0050\n",
      "Epoch 32/100\n",
      "158/158 [==============================] - 0s 890us/step - loss: 0.0032 - val_loss: 0.0070\n",
      "Epoch 33/100\n",
      "158/158 [==============================] - 0s 840us/step - loss: 0.0030 - val_loss: 0.0079\n",
      "Epoch 34/100\n",
      "158/158 [==============================] - 0s 822us/step - loss: 0.0027 - val_loss: 0.0070\n",
      "Epoch 35/100\n",
      "158/158 [==============================] - 0s 809us/step - loss: 0.0023 - val_loss: 0.0049\n",
      "Epoch 36/100\n",
      "158/158 [==============================] - 0s 815us/step - loss: 0.0019 - val_loss: 0.0027\n",
      "Epoch 37/100\n",
      "158/158 [==============================] - 0s 815us/step - loss: 0.0018 - val_loss: 0.0016\n",
      "Epoch 38/100\n",
      "158/158 [==============================] - 0s 815us/step - loss: 0.0020 - val_loss: 0.0013\n",
      "Epoch 39/100\n",
      "158/158 [==============================] - 0s 840us/step - loss: 0.0020 - val_loss: 0.0015\n",
      "Epoch 40/100\n",
      "158/158 [==============================] - 0s 927us/step - loss: 0.0018 - val_loss: 0.0016\n",
      "Epoch 41/100\n",
      "158/158 [==============================] - 0s 815us/step - loss: 0.0015 - val_loss: 0.0017\n",
      "Epoch 42/100\n",
      "158/158 [==============================] - 0s 840us/step - loss: 0.0014 - val_loss: 0.0018\n",
      "Epoch 43/100\n",
      "158/158 [==============================] - 0s 840us/step - loss: 0.0014 - val_loss: 0.0019\n",
      "Epoch 44/100\n",
      "158/158 [==============================] - 0s 877us/step - loss: 0.0016 - val_loss: 0.0019\n",
      "Epoch 45/100\n",
      "158/158 [==============================] - 0s 877us/step - loss: 0.0017 - val_loss: 0.0019\n"
     ]
    },
    {
     "data": {
      "text/plain": [
       "<keras.callbacks.callbacks.History at 0x22bbd816a08>"
      ]
     },
     "execution_count": 5,
     "metadata": {},
     "output_type": "execute_result"
    }
   ],
   "source": [
    "early_stopping = EarlyStopping(monitor='val_loss', mode='auto', patience=20)\n",
    "model.fit(g, h,\n",
    "          batch_size=300,\n",
    "          epochs=100,\n",
    "          validation_split=0.1,\n",
    "          callbacks=[early_stopping]\n",
    "          )"
   ]
  },
  {
   "cell_type": "code",
   "execution_count": 7,
   "metadata": {},
   "outputs": [
    {
     "data": {
      "image/png": "[encoded data removed]",
      "text/plain": [
       "<Figure size 432x288 with 1 Axes>"
      ]
     },
     "metadata": {
      "needs_background": "light"
     },
     "output_type": "display_data"
    }
   ],
   "source": [
    "predicted = model.predict(g)\n",
    "plt.figure()\n",
    "plt.plot(range(25,len(predicted)+25),predicted, color=\"r\", label=\"predict_data\")\n",
    "plt.plot(range(0, len(f)), f, color=\"b\", label=\"row_data\")\n",
    "plt.legend()\n",
    "plt.show()"
   ]
  },
  {
   "cell_type": "code",
   "execution_count": 9,
   "metadata": {},
   "outputs": [
    {
     "ename": "IndexError",
     "evalue": "tuple index out of range",
     "output_type": "error",
     "traceback": [
      "\u001b[1;31m---------------------------------------------------------------------------\u001b[0m",
      "\u001b[1;31mIndexError\u001b[0m                                Traceback (most recent call last)",
      "\u001b[1;32m<ipython-input-9-75637b977451>\u001b[0m in \u001b[0;36m<module>\u001b[1;34m\u001b[0m\n\u001b[0;32m      1\u001b[0m \u001b[1;31m# 1つの学習データの時間の長さ -> 25\u001b[0m\u001b[1;33m\u001b[0m\u001b[1;33m\u001b[0m\u001b[1;33m\u001b[0m\u001b[0m\n\u001b[1;32m----> 2\u001b[1;33m \u001b[0mtime_length\u001b[0m \u001b[1;33m=\u001b[0m \u001b[0mf\u001b[0m\u001b[1;33m.\u001b[0m\u001b[0mshape\u001b[0m\u001b[1;33m[\u001b[0m\u001b[1;36m1\u001b[0m\u001b[1;33m]\u001b[0m\u001b[1;33m\u001b[0m\u001b[1;33m\u001b[0m\u001b[0m\n\u001b[0m\u001b[0;32m      3\u001b[0m \u001b[1;31m# 未来の予測データを保存していく変数\u001b[0m\u001b[1;33m\u001b[0m\u001b[1;33m\u001b[0m\u001b[1;33m\u001b[0m\u001b[0m\n\u001b[0;32m      4\u001b[0m \u001b[0mfuture_result\u001b[0m \u001b[1;33m=\u001b[0m \u001b[0mnp\u001b[0m\u001b[1;33m.\u001b[0m\u001b[0mempty\u001b[0m\u001b[1;33m(\u001b[0m\u001b[1;33m(\u001b[0m\u001b[1;36m1\u001b[0m\u001b[1;33m)\u001b[0m\u001b[1;33m)\u001b[0m\u001b[1;33m\u001b[0m\u001b[1;33m\u001b[0m\u001b[0m\n\u001b[0;32m      5\u001b[0m \u001b[1;33m\u001b[0m\u001b[0m\n",
      "\u001b[1;31mIndexError\u001b[0m: tuple index out of range"
     ]
    }
   ],
   "source": [
    "# 1つの学習データの時間の長さ -> 25\n",
    "time_length = future_test.shape[1]\n",
    "# 未来の予測データを保存していく変数\n",
    "future_result = np.empty((1))\n",
    "\n",
    "# 未来予想\n",
    "for step2 in range(400):\n",
    "\n",
    "    test_data = np.reshape(future_test, (1, time_length, 1))\n",
    "    batch_predict = model.predict(test_data)\n",
    "\n",
    "    future_test = np.delete(future_test, 0)\n",
    "    future_test = np.append(future_test, batch_predict)\n",
    "\n",
    "    future_result = np.append(future_result, batch_predict)\n",
    "\n",
    "\n",
    "# sin波をプロット\n",
    "plt.figure()\n",
    "plt.plot(range(25,len(predicted)+25),predicted, color=\"r\", label=\"predict_data\")\n",
    "plt.plot(range(0, len(f)), f, color=\"b\", label=\"row_data\")\n",
    "plt.plot(range(0+len(f), len(future_result)+len(f)), future_result, color=\"g\", label=\"future_predict\")\n",
    "plt.legend()\n",
    "plt.show()"
   ]
  },
  {
   "cell_type": "code",
   "execution_count": null,
   "metadata": {},
   "outputs": [],
   "source": []
  }
 ],
 "metadata": {
  "kernelspec": {
   "display_name": "Python 3",
   "language": "python",
   "name": "python3"
  },
  "language_info": {
   "codemirror_mode": {
    "name": "ipython",
    "version": 3
   },
   "file_extension": ".py",
   "mimetype": "text/x-python",
   "name": "python",
   "nbconvert_exporter": "python",
   "pygments_lexer": "ipython3",
   "version": "3.7.4"
  }
 },
 "nbformat": 4,
 "nbformat_minor": 4
}
