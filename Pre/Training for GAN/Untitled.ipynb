{
 "cells": [
  {
   "cell_type": "markdown",
   "metadata": {},
   "source": [
    "# Training for GAN"
   ]
  },
  {
   "cell_type": "code",
   "execution_count": 1,
   "metadata": {},
   "outputs": [
    {
     "name": "stderr",
     "output_type": "stream",
     "text": [
      "Using TensorFlow backend.\n"
     ]
    }
   ],
   "source": [
    "from keras.models import Sequential\n",
    "from keras.layers.convolutional import Conv2D\n",
    "from keras.layers.pooling import MaxPool2D\n",
    "from keras.layers.core import Dense,Activation,Dropout,Flatten\n",
    "from keras.datasets import cifar10\n",
    "from keras.utils import np_utils\n",
    "\n",
    "#cifar10をダウンロード\n",
    "(x_train,y_train),(x_test,y_test)=cifar10.load_data()\n",
    "\n",
    "#画像を0-1の範囲で正規化\n",
    "x_train=x_train.astype('float32')/255.0\n",
    "x_test=x_test.astype('float32')/255.0\n",
    "\n",
    "#正解ラベルをOne-Hot表現に変換\n",
    "y_train=np_utils.to_categorical(y_train,10)\n",
    "y_test=np_utils.to_categorical(y_test,10)"
   ]
  },
  {
   "cell_type": "code",
   "execution_count": 2,
   "metadata": {},
   "outputs": [],
   "source": [
    "from keras.models import Sequential\n",
    "from keras.layers import Dense, Activation, Flatten\n",
    "from keras.optimizers import Adam\n",
    "\n",
    "model = Sequential()\n",
    "model.add(Dense(128, activation='relu', input_shape=(32,32,3)))\n",
    "model.add(Flatten())\n",
    "model.add(Dense(32, activation='relu'))\n",
    "model.add(Dense(10, activation=\"softmax\"))\n",
    "model.compile(loss='categorical_crossentropy', optimizer=Adam(), metrics=['accuracy'])"
   ]
  },
  {
   "cell_type": "code",
   "execution_count": 3,
   "metadata": {},
   "outputs": [
    {
     "name": "stdout",
     "output_type": "stream",
     "text": [
      "Train on 50000 samples, validate on 10000 samples\n",
      "Epoch 1/10\n",
      "50000/50000 [==============================] - 37s 748us/step - loss: 2.5161 - accuracy: 0.1387 - val_loss: 2.1768 - val_accuracy: 0.1572\n",
      "Epoch 2/10\n",
      "50000/50000 [==============================] - 37s 746us/step - loss: 2.1257 - accuracy: 0.1794 - val_loss: 2.0520 - val_accuracy: 0.2542\n",
      "Epoch 3/10\n",
      "50000/50000 [==============================] - 37s 738us/step - loss: 2.0030 - accuracy: 0.2733 - val_loss: 1.9525 - val_accuracy: 0.2912\n",
      "Epoch 4/10\n",
      "50000/50000 [==============================] - 39s 775us/step - loss: 1.9089 - accuracy: 0.2959 - val_loss: 1.8785 - val_accuracy: 0.3015\n",
      "Epoch 5/10\n",
      "50000/50000 [==============================] - 37s 746us/step - loss: 1.8427 - accuracy: 0.3051 - val_loss: 1.8008 - val_accuracy: 0.3090\n",
      "Epoch 6/10\n",
      "50000/50000 [==============================] - 37s 736us/step - loss: 1.7647 - accuracy: 0.3390 - val_loss: 1.7353 - val_accuracy: 0.3639\n",
      "Epoch 7/10\n",
      "50000/50000 [==============================] - 37s 746us/step - loss: 1.6828 - accuracy: 0.3844 - val_loss: 1.6486 - val_accuracy: 0.3912\n",
      "Epoch 8/10\n",
      "50000/50000 [==============================] - 37s 734us/step - loss: 1.6401 - accuracy: 0.4006 - val_loss: 1.6270 - val_accuracy: 0.4043\n",
      "Epoch 9/10\n",
      "50000/50000 [==============================] - 37s 732us/step - loss: 1.6084 - accuracy: 0.4148 - val_loss: 1.6162 - val_accuracy: 0.4151\n",
      "Epoch 10/10\n",
      "50000/50000 [==============================] - 37s 738us/step - loss: 1.5848 - accuracy: 0.4286 - val_loss: 1.5816 - val_accuracy: 0.4224\n"
     ]
    },
    {
     "data": {
      "text/plain": [
       "<keras.callbacks.callbacks.History at 0x17fbba19648>"
      ]
     },
     "execution_count": 3,
     "metadata": {},
     "output_type": "execute_result"
    }
   ],
   "source": [
    "model.fit(x_train, y_train, epochs=10, batch_size=1000,\n",
    "         verbose=1, validation_data=(x_test, y_test))"
   ]
  },
  {
   "cell_type": "code",
   "execution_count": 76,
   "metadata": {},
   "outputs": [
    {
     "name": "stderr",
     "output_type": "stream",
     "text": [
      "C:\\Users\\uekaz\\Anaconda3\\lib\\site-packages\\ipykernel_launcher.py:26: UserWarning: The `nb_epoch` argument in `fit` has been renamed `epochs`.\n"
     ]
    },
    {
     "name": "stdout",
     "output_type": "stream",
     "text": [
      "Train on 45000 samples, validate on 5000 samples\n",
      "Epoch 1/20\n",
      "45000/45000 [==============================] - 79s 2ms/step - loss: 1.6117 - accuracy: 0.4126 - val_loss: 1.2951 - val_accuracy: 0.5318\n",
      "Epoch 2/20\n",
      "45000/45000 [==============================] - 79s 2ms/step - loss: 1.2101 - accuracy: 0.5673 - val_loss: 1.0130 - val_accuracy: 0.6478\n",
      "Epoch 3/20\n",
      "45000/45000 [==============================] - 79s 2ms/step - loss: 1.0132 - accuracy: 0.6423 - val_loss: 0.8622 - val_accuracy: 0.7006\n",
      "Epoch 4/20\n",
      "45000/45000 [==============================] - 79s 2ms/step - loss: 0.8886 - accuracy: 0.6896 - val_loss: 0.7788 - val_accuracy: 0.7220\n",
      "Epoch 5/20\n",
      "45000/45000 [==============================] - 79s 2ms/step - loss: 0.8079 - accuracy: 0.7181 - val_loss: 0.7274 - val_accuracy: 0.7474\n",
      "Epoch 6/20\n",
      "45000/45000 [==============================] - 79s 2ms/step - loss: 0.7385 - accuracy: 0.7393 - val_loss: 0.6891 - val_accuracy: 0.7656\n",
      "Epoch 7/20\n",
      "45000/45000 [==============================] - 79s 2ms/step - loss: 0.6845 - accuracy: 0.7580 - val_loss: 0.6969 - val_accuracy: 0.7676\n",
      "Epoch 8/20\n",
      "45000/45000 [==============================] - 79s 2ms/step - loss: 0.6325 - accuracy: 0.7768 - val_loss: 0.6523 - val_accuracy: 0.7788\n",
      "Epoch 9/20\n",
      "45000/45000 [==============================] - 78s 2ms/step - loss: 0.5964 - accuracy: 0.7901 - val_loss: 0.6439 - val_accuracy: 0.7824\n",
      "Epoch 10/20\n",
      "45000/45000 [==============================] - 79s 2ms/step - loss: 0.5570 - accuracy: 0.8019 - val_loss: 0.6161 - val_accuracy: 0.7914\n",
      "Epoch 11/20\n",
      "45000/45000 [==============================] - 79s 2ms/step - loss: 0.5154 - accuracy: 0.8176 - val_loss: 0.6482 - val_accuracy: 0.7866\n",
      "Epoch 12/20\n",
      "45000/45000 [==============================] - 79s 2ms/step - loss: 0.4868 - accuracy: 0.8287 - val_loss: 0.6170 - val_accuracy: 0.7926\n",
      "Epoch 13/20\n",
      "45000/45000 [==============================] - 79s 2ms/step - loss: 0.4563 - accuracy: 0.8372 - val_loss: 0.6071 - val_accuracy: 0.7978\n",
      "Epoch 14/20\n",
      "45000/45000 [==============================] - 79s 2ms/step - loss: 0.4324 - accuracy: 0.8470 - val_loss: 0.6317 - val_accuracy: 0.7952\n",
      "Epoch 15/20\n",
      "45000/45000 [==============================] - 79s 2ms/step - loss: 0.4065 - accuracy: 0.8558 - val_loss: 0.6459 - val_accuracy: 0.7954\n",
      "Epoch 16/20\n",
      "45000/45000 [==============================] - 79s 2ms/step - loss: 0.3910 - accuracy: 0.8598 - val_loss: 0.6426 - val_accuracy: 0.7946\n",
      "Epoch 17/20\n",
      "45000/45000 [==============================] - 79s 2ms/step - loss: 0.3688 - accuracy: 0.8690 - val_loss: 0.6535 - val_accuracy: 0.7960\n",
      "Epoch 18/20\n",
      "45000/45000 [==============================] - 84s 2ms/step - loss: 0.3553 - accuracy: 0.8724 - val_loss: 0.6269 - val_accuracy: 0.8050\n",
      "Epoch 19/20\n",
      "45000/45000 [==============================] - 87s 2ms/step - loss: 0.3339 - accuracy: 0.8791 - val_loss: 0.6307 - val_accuracy: 0.8106\n",
      "Epoch 20/20\n",
      "45000/45000 [==============================] - 86s 2ms/step - loss: 0.3244 - accuracy: 0.8851 - val_loss: 0.6465 - val_accuracy: 0.8076\n",
      "Model: \"sequential_22\"\n",
      "_________________________________________________________________\n",
      "Layer (type)                 Output Shape              Param #   \n",
      "=================================================================\n",
      "conv2d_5 (Conv2D)            (None, 32, 32, 32)        896       \n",
      "_________________________________________________________________\n",
      "activation_6 (Activation)    (None, 32, 32, 32)        0         \n",
      "_________________________________________________________________\n",
      "conv2d_6 (Conv2D)            (None, 32, 32, 32)        9248      \n",
      "_________________________________________________________________\n",
      "activation_7 (Activation)    (None, 32, 32, 32)        0         \n",
      "_________________________________________________________________\n",
      "max_pooling2d_3 (MaxPooling2 (None, 16, 16, 32)        0         \n",
      "_________________________________________________________________\n",
      "dropout_4 (Dropout)          (None, 16, 16, 32)        0         \n",
      "_________________________________________________________________\n",
      "conv2d_7 (Conv2D)            (None, 16, 16, 64)        18496     \n",
      "_________________________________________________________________\n",
      "activation_8 (Activation)    (None, 16, 16, 64)        0         \n",
      "_________________________________________________________________\n",
      "conv2d_8 (Conv2D)            (None, 16, 16, 64)        36928     \n",
      "_________________________________________________________________\n",
      "activation_9 (Activation)    (None, 16, 16, 64)        0         \n",
      "_________________________________________________________________\n",
      "max_pooling2d_4 (MaxPooling2 (None, 8, 8, 64)          0         \n",
      "_________________________________________________________________\n",
      "dropout_5 (Dropout)          (None, 8, 8, 64)          0         \n",
      "_________________________________________________________________\n",
      "flatten_5 (Flatten)          (None, 4096)              0         \n",
      "_________________________________________________________________\n",
      "dense_57 (Dense)             (None, 512)               2097664   \n",
      "_________________________________________________________________\n",
      "activation_10 (Activation)   (None, 512)               0         \n",
      "_________________________________________________________________\n",
      "dropout_6 (Dropout)          (None, 512)               0         \n",
      "_________________________________________________________________\n",
      "dense_58 (Dense)             (None, 10)                5130      \n",
      "=================================================================\n",
      "Total params: 2,168,362\n",
      "Trainable params: 2,168,362\n",
      "Non-trainable params: 0\n",
      "_________________________________________________________________\n",
      "Test loss: 0.6932178640842438\n",
      "Test accuracy: 0.7860000133514404\n"
     ]
    }
   ],
   "source": [
    "#モデルを構築\n",
    "model=Sequential()\n",
    "\n",
    "model.add(Conv2D(32,(3,3),padding='same',input_shape=(32,32,3)))\n",
    "model.add(Activation('relu'))\n",
    "model.add(Conv2D(32,(3,3),padding='same'))\n",
    "model.add(Activation('relu'))\n",
    "model.add(MaxPool2D(pool_size=(2,2)))\n",
    "model.add(Dropout(0.25))\n",
    "\n",
    "model.add(Conv2D(64,(3,3),padding='same'))\n",
    "model.add(Activation('relu'))\n",
    "model.add(Conv2D(64,(3,3),padding='same'))\n",
    "model.add(Activation('relu'))\n",
    "model.add(MaxPool2D(pool_size=(2,2)))\n",
    "model.add(Dropout(0.25))\n",
    "\n",
    "model.add(Flatten())\n",
    "model.add(Dense(512))\n",
    "model.add(Activation('relu'))\n",
    "model.add(Dropout(0.5))\n",
    "model.add(Dense(10,activation='softmax'))\n",
    "\n",
    "model.compile(optimizer='adam',loss='categorical_crossentropy',metrics=['accuracy'])\n",
    "\n",
    "history=model.fit(x_train,y_train,batch_size=128,nb_epoch=20,verbose=1,validation_split=0.1)\n",
    "\n",
    "#モデルと重みを保存\n",
    "json_string=model.to_json()\n",
    "open('cifar10_cnn.json',\"w\").write(json_string)\n",
    "model.save_weights('cifar10_cnn.h5')\n",
    "\n",
    "#モデルの表示\n",
    "model.summary()\n",
    "\n",
    "#評価\n",
    "score=model.evaluate(x_test,y_test,verbose=0)\n",
    "print('Test loss:',score[0])\n",
    "print('Test accuracy:',score[1])"
   ]
  },
  {
   "cell_type": "code",
   "execution_count": null,
   "metadata": {},
   "outputs": [],
   "source": []
  }
 ],
 "metadata": {
  "kernelspec": {
   "display_name": "Python 3",
   "language": "python",
   "name": "python3"
  },
  "language_info": {
   "codemirror_mode": {
    "name": "ipython",
    "version": 3
   },
   "file_extension": ".py",
   "mimetype": "text/x-python",
   "name": "python",
   "nbconvert_exporter": "python",
   "pygments_lexer": "ipython3",
   "version": "3.7.4"
  }
 },
 "nbformat": 4,
 "nbformat_minor": 4
}
