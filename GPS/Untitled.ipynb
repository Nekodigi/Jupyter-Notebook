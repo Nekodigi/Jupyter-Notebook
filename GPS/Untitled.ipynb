{
 "cells": [
  {
   "cell_type": "markdown",
   "metadata": {},
   "source": [
    "# GPS"
   ]
  },
  {
   "cell_type": "markdown",
   "metadata": {},
   "source": [
    "### import"
   ]
  },
  {
   "cell_type": "code",
   "execution_count": 2,
   "metadata": {},
   "outputs": [],
   "source": [
    "import numpy as np\n",
    "import matplotlib.pyplot as plt"
   ]
  },
  {
   "cell_type": "markdown",
   "metadata": {},
   "source": [
    "## showData"
   ]
  },
  {
   "cell_type": "code",
   "execution_count": 48,
   "metadata": {},
   "outputs": [
    {
     "data": {
      "image/png": "[encoded data removed]",
      "text/plain": [
       "<Figure size 432x288 with 1 Axes>"
      ]
     },
     "metadata": {
      "needs_background": "light"
     },
     "output_type": "display_data"
    }
   ],
   "source": [
    "di = None\n",
    "dc = []\n",
    "with open('GPSData.txt') as f:\n",
    "    di = f.read().split('\\n')\n",
    "for i in range(len(di)-1):\n",
    "    if di[i][0] != '0':\n",
    "        dc.append(di[i])\n",
    "        #print(di[i])\n",
    "    #else:\n",
    "        #print(di[i])\n",
    "d = np.zeros((len(dc), 2))\n",
    "#print(dc)\n",
    "for i in range(len(dc)):\n",
    "    s = dc[i].split(',')\n",
    "    if '0.0' != s[0]:\n",
    "        d[i, 0] = float(s[0])\n",
    "        d[i, 1] = float(s[1])\n",
    "        #print('{0},{1}' .format(d[i, 0],d[i, 1]))\n",
    "    #else:\n",
    "        #print('outdata')\n",
    "        #print('{0},{1}' .format(d[i, 0],d[i, 1]))\n",
    "\n",
    "plt.xlim(d[:,0].min(), d[:,0].min()+0.01)\n",
    "#plt.xlim(0, 0.0001)\n",
    "plt.ylim(d[:,1].min(), d[:,1].min()+0.01)\n",
    "#plt.ylim(0, 0.0001)\n",
    "plt.scatter(d[:,0], d[:,1])\n",
    "plt.show()"
   ]
  },
  {
   "cell_type": "code",
   "execution_count": null,
   "metadata": {},
   "outputs": [],
   "source": []
  }
 ],
 "metadata": {
  "kernelspec": {
   "display_name": "Python 3",
   "language": "python",
   "name": "python3"
  },
  "language_info": {
   "codemirror_mode": {
    "name": "ipython",
    "version": 3
   },
   "file_extension": ".py",
   "mimetype": "text/x-python",
   "name": "python",
   "nbconvert_exporter": "python",
   "pygments_lexer": "ipython3",
   "version": "3.7.3"
  }
 },
 "nbformat": 4,
 "nbformat_minor": 2
}
