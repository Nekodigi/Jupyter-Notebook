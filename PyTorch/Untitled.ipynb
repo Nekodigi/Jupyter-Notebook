{
 "cells": [
  {
   "cell_type": "markdown",
   "metadata": {},
   "source": [
    "# Chapter 1\n",
    "### import"
   ]
  },
  {
   "cell_type": "code",
   "execution_count": 10,
   "metadata": {},
   "outputs": [],
   "source": [
    "import numpy as np\n",
    "import torch\n",
    "import matplotlib.pyplot as plt"
   ]
  },
  {
   "cell_type": "markdown",
   "metadata": {},
   "source": [
    "## 1.2.1 creating Tensor and convert"
   ]
  },
  {
   "cell_type": "code",
   "execution_count": 4,
   "metadata": {},
   "outputs": [
    {
     "data": {
      "text/plain": [
       "torch.Size([100, 10])"
      ]
     },
     "execution_count": 4,
     "metadata": {},
     "output_type": "execute_result"
    }
   ],
   "source": [
    "t = torch.tensor([[1, 2], [3, 4]])\n",
    "t = torch.tensor([[1, 2], [3, 4]], device=\"cuda:0\")\n",
    "t = torch.tensor([[1, 2], [3, 4]], dtype=torch.float64)\n",
    "t = torch.arange(0, 10)\n",
    "t = torch.zeros(100, 10).to(\"cuda:0\")\n",
    "t = torch.randn(100, 10)\n",
    "t.size()"
   ]
  },
  {
   "cell_type": "code",
   "execution_count": 5,
   "metadata": {},
   "outputs": [],
   "source": [
    "t = torch.tensor([[1, 2], [3, 4.]])\n",
    "x = t.numpy()\n",
    "t = torch.tensor([[1, 2], [3, 4]], device=\"cuda:0\")\n",
    "x = t.to(\"cpu\").numpy()"
   ]
  },
  {
   "cell_type": "markdown",
   "metadata": {},
   "source": [
    "## 1.2.2 Tensor indexing operation"
   ]
  },
  {
   "cell_type": "code",
   "execution_count": 6,
   "metadata": {},
   "outputs": [],
   "source": [
    "t = torch.tensor([[1,2,3], [4,5,6.]])\n",
    "t[0,2]\n",
    "t[:,:2]\n",
    "t[:,[1,2]]\n",
    "t[t > 3]\n",
    "t[0, 1] = 100\n",
    "t[:, 1] = 200\n",
    "t[t > 10] = 20"
   ]
  },
  {
   "cell_type": "markdown",
   "metadata": {},
   "source": [
    "## 1.2.3 Tensor operation"
   ]
  },
  {
   "cell_type": "code",
   "execution_count": 7,
   "metadata": {},
   "outputs": [],
   "source": [
    "v = torch.tensor([1, 2, 3.])\n",
    "w = torch.tensor([0, 10, 20.])\n",
    "m = torch.tensor([[0, 1, 2], [100, 200, 300.]])\n",
    "v2 = v + 10\n",
    "v2 = v ** 2\n",
    "z = v - w\n",
    "u = 2 * v - w / 10 + 6.0\n",
    "m2 = m * 2.0\n",
    "m3 = m + v\n",
    "m4 = m + m"
   ]
  },
  {
   "cell_type": "code",
   "execution_count": 8,
   "metadata": {},
   "outputs": [],
   "source": [
    "X = torch.randn(100, 10)\n",
    "y = X * 2 + torch.abs(X)\n",
    "m = torch.mean(X)\n",
    "m = X.mean()\n",
    "m_value = m.item()\n",
    "m2 = X.mean(0)"
   ]
  },
  {
   "cell_type": "code",
   "execution_count": 13,
   "metadata": {},
   "outputs": [
    {
     "data": {
      "image/png": "[encoded data removed]",
      "text/plain": [
       "<Figure size 432x288 with 1 Axes>"
      ]
     },
     "metadata": {
      "needs_background": "light"
     },
     "output_type": "display_data"
    }
   ],
   "source": [
    "x1 = torch.tensor([[1, 2], [3, 4.]])\n",
    "x2 = torch.tensor([[10, 20, 30], [40, 50, 60.]])\n",
    "x1.view(4, 1)\n",
    "x1.view(1, -1)\n",
    "x2.t()\n",
    "torch.cat([x1, x2], dim=1)\n",
    "hwc_img_data = torch.rand(100, 64, 32, 3)\n",
    "chw_img_data = hwc_img_data.transpose(1, 2).transpose(1, 3)\n",
    "plt.imshow(hwc_img_data[0])\n",
    "plt.show()"
   ]
  },
  {
   "cell_type": "code",
   "execution_count": 14,
   "metadata": {},
   "outputs": [],
   "source": [
    "m = torch.randn(100, 10)\n",
    "v = torch.randn(10)\n",
    "\n",
    "d = torch.dot(v, v)\n",
    "v2 = torch.mv(m, v)\n",
    "m2 = torch.mm(m.t(), m)\n",
    "u, s, v = torch.svd(m)"
   ]
  },
  {
   "cell_type": "markdown",
   "metadata": {},
   "source": [
    "## 1.3 Tensor and automatic differentiation"
   ]
  },
  {
   "cell_type": "code",
   "execution_count": 16,
   "metadata": {},
   "outputs": [
    {
     "data": {
      "text/plain": [
       "tensor([0, 0, 0], dtype=torch.uint8)"
      ]
     },
     "execution_count": 16,
     "metadata": {},
     "output_type": "execute_result"
    }
   ],
   "source": [
    "x = torch.randn(100, 3)\n",
    "a = torch.tensor([1, 2, 3.], requires_grad=True)\n",
    "y = torch.mv(x, a)\n",
    "o = y.sum()\n",
    "o.backward()\n",
    "a.grad != x.sum(0)"
   ]
  },
  {
   "cell_type": "code",
   "execution_count": 17,
   "metadata": {},
   "outputs": [
    {
     "data": {
      "text/plain": [
       "True"
      ]
     },
     "execution_count": 17,
     "metadata": {},
     "output_type": "execute_result"
    }
   ],
   "source": [
    "x.grad is None"
   ]
  },
  {
   "cell_type": "code",
   "execution_count": null,
   "metadata": {},
   "outputs": [],
   "source": []
  }
 ],
 "metadata": {
  "kernelspec": {
   "display_name": "Python 3",
   "language": "python",
   "name": "python3"
  },
  "language_info": {
   "codemirror_mode": {
    "name": "ipython",
    "version": 3
   },
   "file_extension": ".py",
   "mimetype": "text/x-python",
   "name": "python",
   "nbconvert_exporter": "python",
   "pygments_lexer": "ipython3",
   "version": "3.6.9"
  }
 },
 "nbformat": 4,
 "nbformat_minor": 2
}
